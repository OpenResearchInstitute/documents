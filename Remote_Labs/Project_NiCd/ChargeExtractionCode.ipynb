{
 "cells": [
  {
   "cell_type": "markdown",
   "id": "97d95ac5",
   "metadata": {},
   "source": [
    "# <center>Comparison of the (Dis)charge Rates of Nickel Cadmium Batteries</center>\n",
    "## <center>Open Research Institute, Inc. (ORI)</center>\n",
    "## <center>2024</center>\n",
    "\n",
    "__<center>Contributors:</center>__\n",
    "<center>Michael Easton, Lab Tech 1</center>\n",
    "<center>R. Easton, Lab Tech 3</center>\n",
    "\n",
    "__<center>Supervisors:</center>__\n",
    "<center>Michelle Thompson, CEO</center>\n",
    "<center>Paul Williamson, Advisor</center>\n",
    "\n",
    "# Abstract\n",
    "By utilizing data created by the UBA software, we are able to compare and contrast all of our battery curves after isolating them. Using this comparison, we are able to group each cell into collection of batteries based on the type of cycle used and the number of cycles used and test the quality of the battery. \n",
    "# Methods  \n",
    "## Mathematical Component  \n",
    "   By finding the differences between cycles in the data and comparing the overall sum, we can find the general approximation of difference between two battery cells. Utilizing this, we can apply a grouping method to group the least general difference between cells, then utilize those groups to create our optimized batteries.  \n",
    "# Data Conditioning  \n",
    "Links to all utilized code for this section and additional documentation such as manuals can be found at the [Project-NiCd GitHub repository.](https://github.com/OpenResearchInstitute/documents/tree/master/Remote_Labs/Project_NiCd)  \n",
    "## Importing Libraries\n",
    "We will be utilizing `os`, `pandas`, `itertools`, `numpy` and `contextlib`. Run the command `pip3 install pandas` and `pip3 install numpy` if you do not have these modules installed yet.  "
   ]
  },
  {
   "cell_type": "code",
   "execution_count": 1,
   "id": "3811f8e9",
   "metadata": {
    "tags": []
   },
   "outputs": [],
   "source": [
    "from contextlib import redirect_stdout # For printing our files\n",
    "import os # OS File system utilization in printing files\n",
    "import pandas as pd #Manipulating our data frames\n",
    "import numpy as np #Utilizing numpy commands"
   ]
  },
  {
   "cell_type": "markdown",
   "id": "cef55e7f",
   "metadata": {},
   "source": [
    "## Obtaining our UBA Files\n",
    "The data type we stored our notes for what happened during our tests of the individual battery cells is stored on a .uba data file. To access the notes so we can start to group our data, we will need to iterate through all of the .uba files, then add the portion containing the notes to its own separate file. \n",
    "### Iterating through our UBA files\n",
    "First, we will start by defining terms we will use in our iteration. We need to define the folder that our .uba files are in, which will be wherever you have the testing data stored. This code was made by Paul Williamson/KB5MU."
   ]
  },
  {
   "cell_type": "code",
   "execution_count": 2,
   "id": "d17d5cd5",
   "metadata": {},
   "outputs": [],
   "source": [
    "uba_folder = '' "
   ]
  },
  {
   "cell_type": "markdown",
   "id": "eb7dcdcb",
   "metadata": {},
   "source": [
    "You MUST include your personal directory for your download of the file. Do not use the placeholder used in this walk-through as the directory. \n"
   ]
  },
  {
   "cell_type": "markdown",
   "id": "587d988e",
   "metadata": {},
   "source": [
    "Next, we will define the file extension we are looking for to collect. Because the files we are looking for are the only .uba files in our directory, we will set this to be .uba."
   ]
  },
  {
   "cell_type": "code",
   "execution_count": 3,
   "id": "9bd63eb1",
   "metadata": {},
   "outputs": [],
   "source": [
    "uba_extension = \".uba\""
   ]
  },
  {
   "cell_type": "markdown",
   "id": "b2315325",
   "metadata": {},
   "source": [
    "To set the addendum to the file name, and to serve as what file format we are saving our output in, we will define another object as the output extension."
   ]
  },
  {
   "cell_type": "code",
   "execution_count": 4,
   "id": "d5fcbf65",
   "metadata": {},
   "outputs": [],
   "source": [
    "output_extension = \"_summmary.txt\""
   ]
  },
  {
   "cell_type": "markdown",
   "id": "d55159f6",
   "metadata": {},
   "source": [
    "### Write out our `<Messages>` block to file"
   ]
  },
  {
   "cell_type": "markdown",
   "id": "7ca3b8b7",
   "metadata": {},
   "source": [
    "Next, we will iterate through our `.uba` files in the `uba_folder` directory. To do this, we will utilize a <font color=\"green\">with</font> and an <font color=\"green\">open</font> statement to open a file in the <font color=\"blue\">listdir</font> of our directory, run our code, then close the file. "
   ]
  },
  {
   "cell_type": "markdown",
   "id": "38a3a7e8",
   "metadata": {},
   "source": [
    "To start with, we will create a <font color=\"green\">for</font> loop to iterate through the filenames in our `uba_folder` directory.  \n",
    "\n",
    "```python\n",
    "for filename in os.listdir(uba_folder):\n",
    "```\n",
    "\n",
    "Then, we will indent and use an <font color=\"green\">if</font> statement to specify that, if the file has the extension of uba_extension, .uba, we will use it in our further code. For this, we use the <font color=\"blue\">endswith</font> attribute of `filename`.\n",
    "\n",
    "```python\n",
    "for filename in os.listdir(uba_folder):\t\n",
    "\tif filename.endswith(uba_extension):\t\n",
    "```\n",
    "Next, to open the files we want only for the duration of the code and then close them, we will use a series of <font color=\"green\">with</font> and <font color=\"green\">open</font> statements. We will then use our open file <font color=\"green\">as</font> `f` to shorten it. os.<font color=\"blue\">path</font>.<font color=\"blue\">join</font> will join the `filename` and the directory it is located in into one path. <font color=\"red\">'r'</font> being included means it will only read the file, not read and write. Additionally, we have included the type of encoding, <font color=\"red\">cp1252</font>, so that the file can be properly read by the code.\n",
    "\n",
    "```python\n",
    "for filename in os.listdir(uba_folder):\n",
    "    if filename.endswith(uba_extension):\n",
    "        with open(os.path.join(uba_folder, filename), 'r', encoding='cp1252') as f:\t\t\t\n",
    "```\n",
    "We will use another <font color=\"green\">with</font> statement nested inside of our previous one to open our print-out files where we will see our summaries. To differentiate the files and to save our file as a readable format, we will add the filename with the output extension, then set the open function to write (with the string <font color=\"red\">'w'</font>). We call that open file `outf`.\n",
    "\n",
    "```python\n",
    "for filename in os.listdir(uba_folder):\n",
    "    if filename.endswith(uba_extension):\n",
    "        with open(os.path.join(uba_folder, filename), 'r', encoding='cp1252') as f:\n",
    "            with open(filename+output_extension, 'w') as outf:\n",
    "```\n",
    "Now that we have described our loops and conditional statements, we can now input our code. After indenting one more time,  we will print the `filename`.\n",
    "\n",
    "```python\n",
    "for filename in os.listdir(uba_folder):\n",
    "    if filename.endswith(uba_extension):\n",
    "        with open(os.path.join(uba_folder, filename), 'r', encoding='cp1252') as f:\n",
    "            with open(filename+output_extension, 'w') as outf:\n",
    "                print(filename)\n",
    "```\n",
    "\n",
    "Next, we will set up a boolean that will state the function `at_messages` is currently <font color=\"green\">False</font>. We are doing this to set up our stop for where the `<Messages>` block begins. \n",
    "\n",
    "```python\n",
    "for filename in os.listdir(uba_folder):\n",
    "    if filename.endswith(uba_extension):\n",
    "        with open(os.path.join(uba_folder, filename), 'r', encoding='cp1252') as f:\n",
    "            with open(filename+output_extension, 'w') as outf:\n",
    "                print(filename)\n",
    "                at_messages = False\n",
    "```\n",
    "Because we want to determine by what line we are cutting our data off, we will utilize another <font color=\"green\">for</font> loop to iterate over our <font color=\"green\">open</font>. `.uba` files. \n",
    "```python\n",
    "for filename in os.listdir(uba_folder):\n",
    "    if filename.endswith(uba_extension):\n",
    "        with open(os.path.join(uba_folder, filename), 'r', encoding='cp1252') as f:\n",
    "            with open(filename+output_extension, 'w') as outf:\n",
    "                print(filename)\n",
    "                at_messages = False\n",
    "                for line in f:\n",
    "```"
   ]
  },
  {
   "cell_type": "markdown",
   "id": "c3bbe2a6",
   "metadata": {},
   "source": [
    "Underneath this loop, we will indent another time and pass a conditional <font color=\"green\">if</font> statement to check if the line has the string \n",
    "`'<Messages>'`. \n",
    "```python\n",
    "for filename in os.listdir(uba_folder):\n",
    "    if filename.endswith(uba_extension):\n",
    "        with open(os.path.join(uba_folder, filename), 'r', encoding='cp1252') as f:\n",
    "            with open(filename+output_extension, 'w') as outf:\n",
    "                print(filename)\n",
    "                at_messages = False\n",
    "                for line in f:\n",
    "                    if line.strip() == \"<Messages>\":\n",
    "```"
   ]
  },
  {
   "cell_type": "markdown",
   "id": "8da57597",
   "metadata": {},
   "source": [
    "Next, after indenting one more time,  we will make our previous boolean, `at_messages`, <font color=\"green\">True</font>. Utilizing this boolean, we will pass another <font color=\"green\">if</font> statement, and print our output in our currently open writable file. Altogether, our code should look like this.\n"
   ]
  },
  {
   "cell_type": "code",
   "execution_count": 5,
   "id": "c51d58cd",
   "metadata": {},
   "outputs": [
    {
     "ename": "FileNotFoundError",
     "evalue": "[WinError 3] The system cannot find the path specified: ''",
     "output_type": "error",
     "traceback": [
      "\u001b[1;31m---------------------------------------------------------------------------\u001b[0m",
      "\u001b[1;31mFileNotFoundError\u001b[0m                         Traceback (most recent call last)",
      "Cell \u001b[1;32mIn[5], line 1\u001b[0m\n\u001b[1;32m----> 1\u001b[0m \u001b[38;5;28;01mfor\u001b[39;00m filename \u001b[38;5;129;01min\u001b[39;00m os\u001b[38;5;241m.\u001b[39mlistdir(uba_folder):\n\u001b[0;32m      2\u001b[0m     \u001b[38;5;28;01mif\u001b[39;00m filename\u001b[38;5;241m.\u001b[39mendswith(uba_extension):\n\u001b[0;32m      3\u001b[0m         \u001b[38;5;28;01mwith\u001b[39;00m \u001b[38;5;28mopen\u001b[39m(os\u001b[38;5;241m.\u001b[39mpath\u001b[38;5;241m.\u001b[39mjoin(uba_folder, filename), \u001b[38;5;124m'\u001b[39m\u001b[38;5;124mr\u001b[39m\u001b[38;5;124m'\u001b[39m, encoding\u001b[38;5;241m=\u001b[39m\u001b[38;5;124m'\u001b[39m\u001b[38;5;124mcp1252\u001b[39m\u001b[38;5;124m'\u001b[39m) \u001b[38;5;28;01mas\u001b[39;00m f:\n",
      "\u001b[1;31mFileNotFoundError\u001b[0m: [WinError 3] The system cannot find the path specified: ''"
     ]
    }
   ],
   "source": [
    "for filename in os.listdir(uba_folder):\n",
    "    if filename.endswith(uba_extension):\n",
    "        with open(os.path.join(uba_folder, filename), 'r', encoding='cp1252') as f:\n",
    "            with open(filename+output_extension, 'w') as outf:\n",
    "                print(filename)\n",
    "                at_messages = False\n",
    "                for line in f:\n",
    "                    if line.strip() == \"<Messages>\":\n",
    "                        at_messages = True\n",
    "                    if at_messages:\n",
    "                        print(line.strip(), file=outf)"
   ]
  },
  {
   "cell_type": "markdown",
   "id": "791755e0",
   "metadata": {},
   "source": [
    "### Manual Comparison\n",
    "As a conscious choice, we have chosen not to attempt to automate this process because of the potential difficulty costing more time than sorting each .uba summary.txt manually. However, if wanted, you can attempt to automate this process. In this experiment however, we have sorted each file into their corresponding file types manually. We found that each file contains two identifiable markers that signify the start of the discharge and the start of the long 3 hour equalization charge. We are generally able to tell which file has what amount of cycles because of this. In case we want to utilize later cycles of the batteries, we can only use sixgroup. However, all other files have at least one cycle to use, so we can utilize all of the files for the first cycle analysis.  \n",
    "\n",
    "1HDC = 1 Hour Discharge  \n",
    "3HEC = 3 Hour Equalization Charge"
   ]
  },
  {
   "cell_type": "code",
   "execution_count": 10,
   "id": "b41b3f23-df60-40e1-acd9-230bf74ae292",
   "metadata": {
    "tags": []
   },
   "outputs": [],
   "source": [
    "\n",
    "#1HDC, 3HEC, 1HDC\n",
    "threegroup = [19, 20, 83, 84]\n",
    "\n",
    "#1HDC, 3HEC, 1HDC, 3HEC\n",
    "fourgroup = [6, 4, 3, 2, 1]\n",
    "\n",
    "#1HDC, 3HEC, 1HDC, 3HEC, 1HDC\n",
    "fivegroup = [95, 96, 94, 93, 65, 54, 53, 31, 30, 29, 15]\n",
    "\n",
    "#1HDC, 3HEC, 1HDC, 3HEC, 1HDC, 3HEC\n",
    "sixgroup = [91, 89, 88, 87, 86, 85, 80, 79, 78, 77, 74, 73, 72, 71, 66, 64, 63, 62, 61, 60, 59, 58, 57, 56, 55, 52, 51, 50, 49, 46, 45, 42, 41, 40, 39, 38, 37, 36, 35, 34, 32, 28, 26, 25, 21, 22, 21, 18, 17, 16,  14, 13]\n"
   ]
  },
  {
   "cell_type": "markdown",
   "id": "639df35b",
   "metadata": {},
   "source": [
    "## Defining Process\n",
    "By creating a dictionary, we are capable of assigning each read .csv file to its corresponding file number. First, we will define the range of usable files from our dataset as a list. After iterating through which files exist, we have created a range of all possible useable files. You may or may not need to do this depending on your data collection. "
   ]
  },
  {
   "cell_type": "code",
   "execution_count": 2,
   "id": "ff46008e-70b8-419b-a9c3-b4ccac49cba1",
   "metadata": {
    "tags": []
   },
   "outputs": [],
   "source": [
    "trurange = list(range(1,69))+list(range(83,99)) "
   ]
  },
  {
   "cell_type": "markdown",
   "id": "5fe83cd0",
   "metadata": {},
   "source": [
    "Next, we will create our `file` dictionary. This will make a dictionary (each key corresponds to an entry) to store our formatted and read files in. "
   ]
  },
  {
   "cell_type": "code",
   "execution_count": 3,
   "id": "b82bd212",
   "metadata": {},
   "outputs": [],
   "source": [
    "file = {}"
   ]
  },
  {
   "cell_type": "markdown",
   "id": "92c4a801",
   "metadata": {},
   "source": [
    "The strings utilized in our data provide a clear delineation between the start and end of the discharge and charge cycles. Because of this, we will use them for truncating our dataframe later on. To do this, we will define them with an easily readable name. \n",
    "\n",
    "`dischargestart` is the start of the discharge cycle, graphed as a plateau in the data"
   ]
  },
  {
   "cell_type": "code",
   "execution_count": 4,
   "id": "a903b8de",
   "metadata": {},
   "outputs": [],
   "source": [
    "dischargestart = 'Finish=MaxChargeC' "
   ]
  },
  {
   "cell_type": "markdown",
   "id": "0e46ab21",
   "metadata": {},
   "source": [
    "`chargestart` is the end of the discharge cycle, the start of the charge cycle, and is graphed as a trough in the data.\n"
   ]
  },
  {
   "cell_type": "code",
   "execution_count": 5,
   "id": "cbb2eab8",
   "metadata": {},
   "outputs": [],
   "source": [
    "chargestart = 'Finish=CutoffV' "
   ]
  },
  {
   "cell_type": "markdown",
   "id": "bd5dbc39",
   "metadata": {},
   "source": [
    "`split` is the split halfway through the charge cycle as the current increases, and appears as the point where the charge cycle changes."
   ]
  },
  {
   "cell_type": "code",
   "execution_count": 6,
   "id": "961d4441",
   "metadata": {},
   "outputs": [],
   "source": [
    "split = 'Finish=MaxDischargeTime' "
   ]
  },
  {
   "cell_type": "markdown",
   "id": "f9d7244b",
   "metadata": {},
   "source": [
    "`end` is the recorded user end of the data file."
   ]
  },
  {
   "cell_type": "code",
   "execution_count": 7,
   "id": "59fa88b8",
   "metadata": {},
   "outputs": [],
   "source": [
    "end = 'Finish=UserRequest:Stop' "
   ]
  },
  {
   "cell_type": "markdown",
   "id": "38c1251d",
   "metadata": {},
   "source": [
    "### Reading our .csv files\n",
    "The next step our defining process allows us to use our `file` dictionary to assign each .csv file a corresponding key in the dictionary that is the same as the number attached to the file. To do this, we will utilize our previous range of data we described as trurange (which is a list of all useable file numbers) in a <font color=\"green\">for</font> loop to assign the key and value to eachother.\n",
    "\n",
    "First, we make our <font color=\"green\">for</font> loop. \n",
    "\n",
    "```python\n",
    "for x in trurange:\n",
    "```\n",
    "\n",
    "Next, we will insert a <font color=\"green\">try</font> statement after our <font color=\"green\">for</font> statement. We are doing this so that for files that do not work, we can pass by them, and continue assigning files to the dictionary that do work.  \n",
    "\n",
    "```python\n",
    "for x in trurange:\n",
    "    try:\n",
    "```\n",
    "\n",
    "After indenting another time, we will start to assign our dictionary (file) keys to values. \n",
    "\n",
    "```python\n",
    "for x in trurange:\n",
    "    try:\n",
    "        file[x] = (\n",
    "```\n",
    "\n",
    "After setting our assignment up, we will place our file reader, pd.<font color=\"blue\">read_csv</font>, on the next line, then leave its paranthesis open. pd.<font color=\"blue\">read_csv</font> will read each file and create a `dataframe` for each.\n",
    "\n",
    "```python\n",
    "for x in trurange:\n",
    "    try:\n",
    "        file[x] = (\n",
    "             pd.read_csv(\n",
    "```\n",
    " Now, we must specify the name of our files in an <font color=\"red\">f-string</font> or formatted string which will allow each name to assigned separately. Because of our previous for loop looping through x in the range of file numbers, we can simply place x in square brackets inside of this formatted string to format in each file number.  \n",
    "\n",
    "```python\n",
    "for x in trurange:\n",
    "    try:\n",
    "        file[x] = (\n",
    "             pd.read_csv(\n",
    "                f'NiCd - Key Lime #{x}(data).csv', \n",
    "```\n",
    "\n",
    "Next, we will add two arguments to ensure all of the data is read as is and nothing is removed.\n",
    "\n",
    "```python\n",
    "for x in trurange:\n",
    "    try:\n",
    "        file[x] = (\n",
    "             pd.read_csv(\n",
    "                f'NiCd - Key Lime #{x}(data).csv', \n",
    "                skip_blank_lines=False, #We want all index numbers to stay the same\n",
    "                keep_default_na=True, #We want to keep all of our N/A values for the same reason\n",
    "```\n",
    "\n",
    "Now that we have ensured our file is being read properly, we will define the names of each of the columns. Our data format has 5 columns, in order being the time in seconds, the voltage, the current, the temperature in celsius, and the strings attached to the data by the software used. By specifying the names of each of the columns, we're able to refer to the columns specifically in any circumstance where we're specifying `file[x]` by instead using `file[x]`[<font color=\"red\">'Column'</font>]. We will also close the parantheses we previously opened.\n",
    "\n",
    "```python\n",
    "for x in trurange:\n",
    "    try:\n",
    "        file[x] = (\n",
    "             pd.read_csv(\n",
    "                f'NiCd - Key Lime #{x}(data).csv', \n",
    "                skip_blank_lines=False, #We want all index numbers to stay the same\n",
    "                keep_default_na=True, #We want to keep all of our N/A values for the same reason\n",
    "                names=['Time', 'Volt', 'M/A', 'C', 'Sig'],\n",
    "            )\n",
    "        )\n",
    "```\n",
    "\n",
    "Next, we will close our <font color=\"green\">try</font> loop by including the <font color=\"green\">except</font> statement, which is used by the <font color=\"green\">try</font> statement when <font color=\"green\">try</font>ing to run the included code fails. We have included a printout of an error message with an f-string to tell us which files have failed, if any. You can utilize this formatting of the code to run a test for which files are useable, then pass a list similar to trurange to only select for files which are useable. The final code should look something like this."
   ]
  },
  {
   "cell_type": "code",
   "execution_count": 8,
   "id": "221bde8b",
   "metadata": {
    "collapsed": true,
    "jupyter": {
     "outputs_hidden": true
    }
   },
   "outputs": [
    {
     "name": "stdout",
     "output_type": "stream",
     "text": [
      "fail in 1\n",
      "fail in 2\n",
      "fail in 3\n",
      "fail in 4\n",
      "fail in 5\n",
      "fail in 6\n",
      "fail in 7\n",
      "fail in 8\n",
      "fail in 9\n",
      "fail in 10\n",
      "fail in 11\n",
      "fail in 12\n",
      "fail in 13\n",
      "fail in 14\n",
      "fail in 15\n",
      "fail in 16\n",
      "fail in 17\n",
      "fail in 18\n",
      "fail in 19\n",
      "fail in 20\n",
      "fail in 21\n",
      "fail in 22\n",
      "fail in 23\n",
      "fail in 24\n",
      "fail in 25\n",
      "fail in 26\n",
      "fail in 27\n",
      "fail in 28\n",
      "fail in 29\n",
      "fail in 30\n",
      "fail in 31\n",
      "fail in 32\n",
      "fail in 33\n",
      "fail in 34\n",
      "fail in 35\n",
      "fail in 36\n",
      "fail in 37\n",
      "fail in 38\n",
      "fail in 39\n",
      "fail in 40\n",
      "fail in 41\n",
      "fail in 42\n",
      "fail in 43\n",
      "fail in 44\n",
      "fail in 45\n",
      "fail in 46\n",
      "fail in 47\n",
      "fail in 48\n",
      "fail in 49\n",
      "fail in 50\n",
      "fail in 51\n",
      "fail in 52\n",
      "fail in 53\n",
      "fail in 54\n",
      "fail in 55\n",
      "fail in 56\n",
      "fail in 57\n",
      "fail in 58\n",
      "fail in 59\n",
      "fail in 60\n",
      "fail in 61\n",
      "fail in 62\n",
      "fail in 63\n",
      "fail in 64\n",
      "fail in 65\n",
      "fail in 66\n",
      "fail in 67\n",
      "fail in 68\n",
      "fail in 83\n",
      "fail in 84\n",
      "fail in 85\n",
      "fail in 86\n",
      "fail in 87\n",
      "fail in 88\n",
      "fail in 89\n",
      "fail in 90\n",
      "fail in 91\n",
      "fail in 92\n",
      "fail in 93\n",
      "fail in 94\n",
      "fail in 95\n",
      "fail in 96\n",
      "fail in 97\n",
      "fail in 98\n"
     ]
    }
   ],
   "source": [
    "for x in trurange:\n",
    "    try:\n",
    "        file[x] = (\n",
    "             pd.read_csv(\n",
    "                f'NiCd - Key Lime #{x}(data).csv', \n",
    "                skip_blank_lines=False, #We want all index numbers to stay the same\n",
    "                keep_default_na=True, #We want to keep all of our N/A values for the same reason\n",
    "                names=['Time', 'Volt', 'M/A', 'C', 'Sig'],\n",
    "            )\n",
    "        )\n",
    "    except:\n",
    "        print(f'fail in {x}')"
   ]
  },
  {
   "cell_type": "markdown",
   "id": "6fb22ead",
   "metadata": {},
   "source": [
    "## Acquriing Index Locations\n",
    "\n",
    "### Defining our Locations to Dictionaries\n",
    "By creating dictionaries with assigned keys corresponding to the file number and values being the positional locations of each of the delineating strings, we can use these dictionaries at any point to refer to any files start, stop and split in the data. The first cycle in all files is a preparation for the battery that is not used for this experiment, so we refer to the cycle that is being use, by technicality the second one, as the \"first\" and \"true\" to differentiate from the apparent first cycle. We will start by defining our dictionaries. \n",
    "\n",
    "`locsigdc` is the first true discharge location."
   ]
  },
  {
   "cell_type": "code",
   "execution_count": 18,
   "id": "9c6a1051",
   "metadata": {},
   "outputs": [],
   "source": [
    "locsigdc = {} #first true discharge positional location"
   ]
  },
  {
   "cell_type": "markdown",
   "id": "b9b7a416",
   "metadata": {},
   "source": [
    "`locsigch` is the first true charge location."
   ]
  },
  {
   "cell_type": "code",
   "execution_count": 19,
   "id": "4b89fac3",
   "metadata": {},
   "outputs": [],
   "source": [
    "locsigch = {} #first true charge positional location"
   ]
  },
  {
   "cell_type": "markdown",
   "id": "6ce25594",
   "metadata": {},
   "source": [
    "`locsigsp` is the first true split in the charge cycle's location."
   ]
  },
  {
   "cell_type": "code",
   "execution_count": 20,
   "id": "8639af53",
   "metadata": {},
   "outputs": [],
   "source": [
    "locsigsp = {} #first true split positional location"
   ]
  },
  {
   "cell_type": "markdown",
   "id": "896dc3c0",
   "metadata": {},
   "source": [
    "`locsigend` is the end of the first charge cycle's location."
   ]
  },
  {
   "cell_type": "code",
   "execution_count": 21,
   "id": "7cb13992",
   "metadata": {},
   "outputs": [],
   "source": [
    "locsigend = {} #end of the the first charge cycle"
   ]
  },
  {
   "cell_type": "markdown",
   "id": "75f2fa83",
   "metadata": {},
   "source": [
    "Next, we will creating a <font color=\"green\">for</font> loop that iterates over the keys stored by our file dictionary, utilizing only the keys that have a successful corresponding `dataframe`.\n",
    "\n",
    "```python\n",
    "for x in file.keys():\n",
    "```\n",
    "\n",
    "The next statement we will pass is a series of if statement that utilizes the .<font color=\"blue\">loc</font>[] attribute of pandas to acquire the row of the strings, then specifying its index via the .<font color=\"blue\">index</font> attribute. After this, we pass it to a list using .<font color=\"blue\">tolist</font>() that we can then refer to specific locations by using elements. Then, utilizing the <font color=\"green\">len</font> function, we will describe our if statements to only apply the following code to files in which every list of index locations is <font color=\"green\">greater than 3</font>- we do not want to use files that have broken data in which tests were interrupted or incomplete and only recorded 0, 1 or 2 instances of each string.\n",
    "\n",
    "\n",
    "```python\n",
    "for x in file.keys(): \n",
    "    if len(file[x].loc[file[x]['Sig'] == dischargestart].index.tolist()) >=3:\n",
    "        if len(file[x].loc[file[x]['Sig'] == chargestart].index.tolist()) >=3:\n",
    "            if len(file[x].loc[file[x]['Sig'] == split].index.tolist()) >=3:\n",
    "```\n",
    "\n",
    "Our next <font color=\"green\">if</font> statement determines that our index locations must be in sequential order. By only using files in which the discharge we want is before the charge, and the charge we want is before the split, we select for files that exclusively have properly encoded data. Line breaks have been included (using \\) for easier readibility and accessibility.\n",
    "\n",
    "```python\n",
    "for x in file.keys(): \n",
    "    if len(file[x].loc[file[x]['Sig'] == dischargestart].index.tolist()) >=3:\n",
    "        if len(file[x].loc[file[x]['Sig'] == chargestart].index.tolist()) >=3:\n",
    "            if len(file[x].loc[file[x]['Sig'] == split].index.tolist()) >=3:\n",
    "                if file[x].loc[file[x]['Sig'] == dischargestart].index.tolist()[0]\\\n",
    "                < file[x].loc[file[x]['Sig'] == chargestart].index.tolist()[1]\\\n",
    "                < file[x].loc[file[x]['Sig'] == split].index.tolist()[2]:\n",
    "```\n",
    "\n",
    "Underneath this <font color=\"green\">if</font> statement, we will assign our dictionaries their respective index values for each string they are made for, per file. By specifying with multi-indexing in pandas, we can specifically look for instances in which the column returns the string, then find the row with .<font color=\"blue\">loc</font>, then <font color=\"green\">print</font> the index for every return, and finally add each of these index in a list. We then use list indexing to specify which element we are looking for- we will go up in sequential order from the discharge from 0 because of the order and correspondance of each string. The final code should look something like this.\n",
    "\n"
   ]
  },
  {
   "cell_type": "code",
   "execution_count": 22,
   "id": "69a2567d-2b5c-4ed4-9d24-5d591dd4bbce",
   "metadata": {
    "tags": []
   },
   "outputs": [],
   "source": [
    "for x in file.keys(): \n",
    "    if len(file[x].loc[file[x]['Sig'] == dischargestart].index.tolist()) >=3:\n",
    "        if len(file[x].loc[file[x]['Sig'] == chargestart].index.tolist()) >=3:\n",
    "            if len(file[x].loc[file[x]['Sig'] == split].index.tolist()) >=3:\n",
    "                if file[x].loc[file[x]['Sig'] == dischargestart].index.tolist()[0]\\\n",
    "                < file[x].loc[file[x]['Sig'] == chargestart].index.tolist()[1]\\\n",
    "                < file[x].loc[file[x]['Sig'] == split].index.tolist()[2]:\n",
    "                        locsigdc[x] = (file[x].loc[file[x]['Sig'] == dischargestart].index.tolist()[0]) \n",
    "                        locsigch[x] = (file[x].loc[file[x]['Sig'] == chargestart].index.tolist()[1])\n",
    "                        locsigsp[x] = (file[x].loc[file[x]['Sig'] == split].index.tolist()[2])\n",
    "                        locsigend[x] = (file[x].loc[file[x]['Sig'] == split].index.tolist()[2] + 500)\n",
    "                \n"
   ]
  },
  {
   "cell_type": "markdown",
   "id": "fb01a1ac",
   "metadata": {},
   "source": [
    "### Truncating and Assigning our Cycle Data\n",
    "To compare each of our cycles, we will truncate our data and reduce it down to just the voltage column for now. To easily access this data, we will assign each truncated dataframe to a corresponding dictionary entry.\n",
    "\n",
    "First, we will create our dictionaries.\n",
    "\n",
    "`dischargecycle` is the first discharge cycle."
   ]
  },
  {
   "cell_type": "code",
   "execution_count": 23,
   "id": "7aa5f9fe-a67b-4389-8cdd-7b03d608e442",
   "metadata": {
    "tags": []
   },
   "outputs": [],
   "source": [
    "dischargecycle = {} #first discharge"
   ]
  },
  {
   "cell_type": "markdown",
   "id": "62bbc4ac",
   "metadata": {},
   "source": [
    "`splitchargecycle` is the first half of the charge cycle and the end of the discharge cycle."
   ]
  },
  {
   "cell_type": "code",
   "execution_count": 24,
   "id": "e9bcd52d",
   "metadata": {},
   "outputs": [],
   "source": [
    "splitchargecycle = {} #first half of the charge cycle"
   ]
  },
  {
   "cell_type": "markdown",
   "id": "5c423f6a",
   "metadata": {},
   "source": [
    "`postsplit` is the last half of the charge cycle, which then continues onto the start of the next discharge cycle."
   ]
  },
  {
   "cell_type": "code",
   "execution_count": 25,
   "id": "e0ca7ed6",
   "metadata": {},
   "outputs": [],
   "source": [
    "postsplit = {} # last half of the charge cycle"
   ]
  },
  {
   "cell_type": "markdown",
   "id": "d548d01c",
   "metadata": {},
   "source": [
    "Then, we will make a for loop iterating over the .<font color=\"blue\">keys</font>() of locsigdc, which will make it to where we are only using the files that worked for our previous code. We will also include another <font color=\"green\">try</font> statement to drop any broken files.\n",
    "\n",
    "```python\n",
    "for x in locsigdc.keys(): \n",
    "        try:\n",
    "```\n",
    "Next, we will assign each of our dictionaries the corresponding dataframe, shortened down to just the voltage column with multi-index, utilizing the .<font color=\"blue\">truncate</font>() attribute to shorten our data to only the cycle being looked at. For each, we will define our `before` parameter being the start of the cycle, and the `after` parameter being the end of the cycle. \n",
    "\n",
    "```python\n",
    "for x in locsigdc.keys(): \n",
    "        try:\n",
    "            dischargecycle[x] = file[x]['Volt'].truncate(before=locsigdc[x],\n",
    "                                                             after=locsigch[x])\n",
    "            splitchargecycle[x] = file[x]['Volt'].truncate(before=locsigch[x], \n",
    "                                                               after=locsigsp[x])\n",
    "            postsplit[x] = file[x]['Volt'].truncate(before=locsigsp[x],\n",
    "                                                        after=locsigend[x])\n",
    "```\n",
    "\n",
    "To end the <font color=\"green\">try</font> loop, we will include our <font color=\"green\">except</font>\n",
    "statement and a printed <font color=\"red\">f-string</font> error message to show which ones are failing this step. All in all, our code should look like this."
   ]
  },
  {
   "cell_type": "code",
   "execution_count": 26,
   "id": "ae8f188a",
   "metadata": {},
   "outputs": [],
   "source": [
    "for x in locsigdc.keys(): \n",
    "        try:\n",
    "            dischargecycle[x] = file[x]['Volt'].truncate(before=locsigdc[x],\n",
    "                                                             after=locsigch[x])\n",
    "            splitchargecycle[x] = file[x]['Volt'].truncate(before=locsigch[x], \n",
    "                                                               after=locsigsp[x])\n",
    "            postsplit[x] = file[x]['Volt'].truncate(before=locsigsp[x],\n",
    "                                                        after=locsigend[x])\n",
    "        except:\n",
    "            print(f'fail in {x}')"
   ]
  },
  {
   "cell_type": "markdown",
   "id": "2ee0efd3",
   "metadata": {},
   "source": [
    "## Comparing our Conditioned Data\n",
    "By subtracting in a pointwise operation each cycle and finding the absolute value of their difference, we can find their overall deviation from eachother. Using both the discharge and charge cycle's absolute value of the difference, we can subtract both of them and take the absolute value to find the difference from eachother. We can then use this data to sort our resulting .csv file later on, but it also adds crucial context to paired matches.\n",
    "\n",
    "First, we will create a <font color=\"green\">for</font> loop that will allow us to iterate across the list of files used.\n",
    "\n",
    "```python\n",
    "for x in file.keys(): \n",
    "```\n",
    "\n",
    "Next, we will include an <font color=\"green\">if</font> statement to only select for keys that passed the previous loop to define the dictionaries. For this, we have used `splitchargecycle` arbitrarily.\n",
    "\n",
    "```python\n",
    "for x in file.keys(): \n",
    "    if x in splitchargecycle.keys():\n",
    "```\n",
    "\n",
    "To create our files, we will use a <font color=\"green\">with</font> statement and contextlib to <font color=\"green\">open</font> a file and write to it the print out of our code. The name of this file will be an <font color=\"red\">f-string</font> to allow us to create individual files, numbered by file to which we will print our comparison code. We will define this open file <font color=\"green\">as</font> `f`. \n",
    "\n",
    "```python\n",
    "for x in file.keys(): \n",
    "    if x in splitchargecycle.keys():\n",
    "        with open(f'ChargeComparison_of_{x}.csv', 'w') as f:\n",
    "```\n",
    "\n",
    "Next, we will use `redirect_stdout()` to direct the following code to `f`.\n",
    "\n",
    "```python\n",
    "for x in file.keys(): \n",
    "    if x in splitchargecycle.keys():\n",
    "        with open(f'ChargeComparison_of_{x}.csv', 'w') as f:\n",
    "            with redirect_stdout(f):\n",
    "```\n",
    "\n",
    "Within this, we will add another <font color=\"green\">for</font> statement to cycle with an added variable, `y`, through the <font color=\"blue\">keys</font> of `splitchargecycle`.\n",
    "\n",
    "```python\n",
    "for x in file.keys(): \n",
    "    if x in splitchargecycle.keys():\n",
    "        with open(f'ChargeComparison_of_{x}.csv', 'w') as f:\n",
    "            with redirect_stdout(f):\n",
    "                for y in splitchargecycle.keys():\n",
    "```\n",
    "\n",
    "Below this, we will add an <font color=\"green\">if</font> statement to only pass the print-out of the subtraction if `x` is greater than `y`. This allows to us to erase duplicates where the order is reversed. \n",
    "\n",
    "```python\n",
    "for x in file.keys(): \n",
    "    if x in splitchargecycle.keys():\n",
    "        with open(f'ChargeComparison_of_{x}.csv', 'w') as f:\n",
    "            with redirect_stdout(f):\n",
    "                for y in splitchargecycle.keys():\n",
    "                    if x>y:\n",
    "```\n",
    "\n",
    "Adding to this, we will pass another <font color=\"green\">if</font> statement that will only pass the print-out of the subtraction if the two files are not the same. This allows us to drop instances where the difference will automatically be zero, as these values provide no currently useable information and make sorting the data difficult.\n",
    "\n",
    "```python\n",
    "for x in file.keys(): \n",
    "    if x in splitchargecycle.keys():\n",
    "        with open(f'ChargeComparison_of_{x}.csv', 'w') as f:\n",
    "            with redirect_stdout(f):\n",
    "                for y in splitchargecycle.keys():\n",
    "                    if x>y:\n",
    "                        if x != y:\n",
    "```\n",
    "\n",
    "Next, we will pass our <font color=\"green\">print</font> statement. This <font color=\"green\">print</font> statement is formatted in way in which when printed to this .csv, it will seperate each distinct subtraction into its own columns. This is done by inputting commas in between each subtraction. \n",
    "\n",
    "In order, each subtraction is as follows:  \n",
    "A: The absolute value of the sum of the difference between the two __discharge__ cycles being used.  \n",
    "B: The absolute value of the sum of the difference between the two __start of the charge__ cycles being used.  \n",
    "C: The absolute value of the difference between values A and B.  \n",
    "D: The number of file x.  \n",
    "E: The number of file y.  \n",
    "\n",
    "Altogether, the code should look something like this."
   ]
  },
  {
   "cell_type": "code",
   "execution_count": 27,
   "id": "c27210f6",
   "metadata": {
    "tags": []
   },
   "outputs": [],
   "source": [
    "for x in file.keys(): \n",
    "    if x in splitchargecycle.keys():\n",
    "        with open(f'ChargeComparison_of_{x}.csv', 'w') as f:\n",
    "            with redirect_stdout(f):\n",
    "                for y in splitchargecycle.keys():\n",
    "                    if x>y:\n",
    "                        if x != y:\n",
    "                            print(abs(((dischargecycle[x].reset_index(drop=True)).sub(dischargecycle[y].reset_index(drop=True))).sum()), \n",
    "                                  ',',\n",
    "                                  abs(((splitchargecycle[x].reset_index(drop=True)).sub(splitchargecycle[y].reset_index(drop=True))).sum()),\n",
    "                                  ',',\n",
    "                                  abs((abs(((dischargecycle[x].reset_index(drop=True)).sub(dischargecycle[y].reset_index(drop=True))).sum()))-(abs(((splitchargecycle[x].reset_index(drop=True)).sub(splitchargecycle[y].reset_index(drop=True))).sum()))),\n",
    "                                  f',{x},', \n",
    "                                  f'{y}'\n",
    "                                 )"
   ]
  },
  {
   "cell_type": "markdown",
   "id": "ac6e6bfe-04d7-4d75-90e6-4e527823cd7f",
   "metadata": {},
   "source": [
    "### Creating our Dataframes\n",
    "With our series of files containing our data, we will import them as dataframe entries in a dictionary to easily access and manipulate. To do this, we must first create our dictionary."
   ]
  },
  {
   "cell_type": "code",
   "execution_count": null,
   "id": "fdc81c2e-1322-4334-a06f-72290a756ea8",
   "metadata": {},
   "outputs": [],
   "source": [
    "gofish = {}"
   ]
  },
  {
   "cell_type": "markdown",
   "id": "29a61a68-d1ea-41cf-a924-6681652c209b",
   "metadata": {},
   "source": [
    "Next, we will create a <font color=\"green\">for</font> loop to iterate across the number of files created. We are using the <font color=\"blue\">keys</font> of `splitchargecycle` to iterate because these are the numbers of files that have passed our cleaning.\n",
    "```python\n",
    "for x in splitchargecycle.keys():\n",
    "```\n",
    "Below this <font color=\"green\">for</font> loop, we will read each file similarily to our original dictionaries using pd.<font color=\"blue\">read_csv</font>(). We pass the name in an <font color=\"red\"> f-string</font> to select each file in the <font color=\"blue\">keys</font> we are iterating through, then we define each column being used for easy reference using the `names` argument."
   ]
  },
  {
   "cell_type": "code",
   "execution_count": 28,
   "id": "7f760ce5-5e2f-44e9-b00c-cb3a8453e558",
   "metadata": {
    "tags": []
   },
   "outputs": [],
   "source": [
    "for x in splitchargecycle.keys():\n",
    "     gofish[x] = pd.read_csv(f'ChargeComparison_of_{x}.csv', \n",
    "                     names=['DisC_Difference', 'CharDifference', 'DisCharDiff', 'File', 'Compared'])\n"
   ]
  },
  {
   "cell_type": "markdown",
   "id": "e7bc419f-cb75-4717-9dd6-b8ae2eeb4222",
   "metadata": {},
   "source": [
    "Because our 7th entry is empty, we will delete this entry."
   ]
  },
  {
   "cell_type": "code",
   "execution_count": null,
   "id": "9eb18f49-90a7-4d15-a22c-60e5fe8bdfac",
   "metadata": {},
   "outputs": [],
   "source": [
    "del gofish[7] # our 7th key is empty"
   ]
  },
  {
   "cell_type": "markdown",
   "id": "4d57bf7a-4ca8-4a86-99f1-7de0229249ab",
   "metadata": {},
   "source": [
    "To test our `gofish` dictionary and make sure it properly encoded its information, we will <font color=\"green\">print</font> the last file using x."
   ]
  },
  {
   "cell_type": "code",
   "execution_count": 2,
   "id": "4ddf80ce-61bb-4404-81e5-9f8180d9e40d",
   "metadata": {
    "tags": []
   },
   "outputs": [
    {
     "ename": "NameError",
     "evalue": "name 'gofish' is not defined",
     "output_type": "error",
     "traceback": [
      "\u001b[1;31m----------------------------------------------------------\u001b[0m",
      "\u001b[1;31mNameError\u001b[0m                Traceback (most recent call last)",
      "Cell \u001b[1;32mIn[2], line 1\u001b[0m\n\u001b[1;32m----> 1\u001b[0m \u001b[38;5;28mprint\u001b[39m(\u001b[43mgofish\u001b[49m[x])\n",
      "\u001b[1;31mNameError\u001b[0m: name 'gofish' is not defined"
     ]
    }
   ],
   "source": [
    "print(gofish[x])"
   ]
  },
  {
   "cell_type": "markdown",
   "id": "c923f7fc-f2d6-48a9-8090-33fc5b9839d3",
   "metadata": {},
   "source": [
    "### Acquiring and Printing the Minimums\n",
    "By using another series of <font color=\"green\">with</font> statements to open a file and write to it, we can print out the minimums of a specified column (the closest match in its value between the file number listed and whatever file number it is being compared to) then save all of those resulting minimums to its own .csv. \n",
    "\n",
    "Using a <font color=\"green\">with</font> statement, we will <font color=\"green\">open</font> our specified file and add that we are <font color=\"red\">writing</font> to it with the <font color=\"red\">'w'</font> argument. We then describe it <font color=\"green\">as</font> `f` to use it in our next statement.\n",
    "\n",
    "```python\n",
    "with open('DisAndChargeMin.csv', 'w') as f:\n",
    "```\n",
    "\n",
    "Next, we will use `redirect_stdout()` to direct the following code to `f`.\n",
    "\n",
    "```python\n",
    "with open('DisAndChargeMin.csv', 'w') as f:\n",
    "    with redirect_stdout(f):\n",
    "```\n",
    "\n",
    "Underneath these <font color=\"green\">with</font> statements, we will then use a <font color=\"green\">for</font> loop to iterate through the <font color=\"blue\">keys</font> of `gofish` as x. \n",
    "\n",
    "```python\n",
    "with open('DisAndChargeMin.csv', 'w') as f:\n",
    "    with redirect_stdout(f):\n",
    "        for x in gofish.keys():\n",
    "```\n",
    "\n",
    "Finally, we will print to our open file (<font color=\"red\">'DisAndChargeMin.csv'</font>) the row <font color=\"blue\">located</font> by the <font color=\"blue\">index of the minimum</font> value of the absolute value of the sum of the difference between the two __discharge__ cycles being used for that row. This utilizes the <font color=\"red\">'DisCharDiff'</font> column we previously described, but can be switched for any column based on what is being valued more. We then turn this row into a .csv or comma seperated value which will print to our already open .csv file."
   ]
  },
  {
   "cell_type": "code",
   "execution_count": 30,
   "id": "743b7366-20c8-4bbf-9fa0-e99ac3e67ea4",
   "metadata": {
    "tags": []
   },
   "outputs": [],
   "source": [
    "with open('DisAndChargeMin.csv', 'w') as f:\n",
    "    with redirect_stdout(f):\n",
    "        for x in gofish.keys():\n",
    "            print(gofish[x].reset_index(drop=True).loc[[gofish[x]['DisCharDiff'].reset_index(drop=True).idxmin(0)]].to_csv(index=False, header=False))"
   ]
  },
  {
   "cell_type": "markdown",
   "id": "48d71683-23be-4403-93d7-25cff7bca107",
   "metadata": {},
   "source": [
    "### Sorting our Collective Minimums\n",
    "To adequately group our batteries, we will produce a .csv purposefully sorted beforehand for easy readability and accessibility.\n",
    "\n",
    "First, we will create a dataframe using pd.<font color=\"blue\">read_csv</font>(), importing our previously created file <font color=\"red\">'DisAndChargeMin.csv'</font>, describing the same number of columns. We then use the <font color=\"blue\">.sort_values</font>() attribute to sort by the <font color=\"red\">'Compared'</font> column, specifying how this sorting will be done with the 3 arguments. `axis` describes by which axis we are sorting by (column or row), `ascending` is the order in which we will present the sort, and `inplace` edits the dataframe itself rather than creating a new one."
   ]
  },
  {
   "cell_type": "code",
   "execution_count": null,
   "id": "f6b0cf83-f069-42e0-9bb5-7cd56883f0c1",
   "metadata": {},
   "outputs": [],
   "source": [
    "salmon = pd.read_csv('DisAndChargeMin.csv', names=['DisC_Difference', 'CharDifference', 'DisCharDiff', 'File', 'Compared']).sort_values(by=['Compared'], \n",
    "                                                                                               axis=0, \n",
    "                                                                                               ascending=True, \n",
    "                                                                                               inplace=False\n",
    "                                                                                              )"
   ]
  },
  {
   "cell_type": "markdown",
   "id": "407782e6-9769-46de-a4f8-df10ed3c7e7e",
   "metadata": {},
   "source": [
    "Next, we will test our dataframe to make sure all values/columns were imported correctly and sorted."
   ]
  },
  {
   "cell_type": "code",
   "execution_count": null,
   "id": "93bea8aa-c27b-4062-85f1-10ccbfb500f0",
   "metadata": {},
   "outputs": [],
   "source": [
    "print(salmon)"
   ]
  },
  {
   "cell_type": "markdown",
   "id": "ec437a7a-23ca-4a55-8471-da6469790fa6",
   "metadata": {},
   "source": [
    "Finally, we will use the <font color=\"blue\">.to_csv</font>() attribute of `pandas` to export this dataframe as a .csv file titled <font color=\"red\">'DisChargeDIFFSorted.csv'</font>. We pass 3 arguments, `header` which describes whether or not to include the headers, `index` which describes whether or not we include a column for the index itself, and `mode` which describes what mode we are working in (read/write). "
   ]
  },
  {
   "cell_type": "code",
   "execution_count": 31,
   "id": "2497100d-2ebe-4e28-8092-b0fc9f356d51",
   "metadata": {
    "tags": []
   },
   "outputs": [
    {
     "name": "stdout",
     "output_type": "stream",
     "text": [
      "    DisC_Difference  CharDifference  DisCharDiff  File  Compared\n",
      "0          0.334527        0.108508     0.226019     8         7\n",
      "1          0.642332        0.233952     0.408380     9         7\n",
      "5          0.089003        0.035232     0.053771    13         7\n",
      "4          5.883620        0.316047     5.567573    12         7\n",
      "48         0.121811        0.138411     0.016600    64         7\n",
      "..              ...             ...          ...   ...       ...\n",
      "55         0.544735        0.228576     0.316159    90        61\n",
      "61         0.259613        0.262908     0.003295    96        63\n",
      "62         0.246732        0.251713     0.004981    97        90\n",
      "59         0.268889        0.336858     0.067969    94        91\n",
      "60         0.261835        0.274535     0.012700    95        93\n",
      "\n",
      "[64 rows x 5 columns]\n"
     ]
    }
   ],
   "source": [
    "salmon.to_csv('DisChargeDIFFSorted.csv', header=True, index=False, mode='w')"
   ]
  },
  {
   "cell_type": "markdown",
   "id": "5881da05-59cf-4ae2-9775-594336191e0f",
   "metadata": {},
   "source": [
    "With this, we have succeeded in __cleaning__, __aggregating__, __comparing__, and __sorting__ the Project NiCd battery files."
   ]
  },
  {
   "cell_type": "markdown",
   "id": "fc5e1152-16b9-418b-a658-591723860f75",
   "metadata": {},
   "source": [
    "Below is a version of the print code that utilizes the entire cycle rather than just one."
   ]
  },
  {
   "cell_type": "code",
   "execution_count": null,
   "id": "c9ce4dd6-5084-40bf-a659-7d3336e75ce2",
   "metadata": {},
   "outputs": [],
   "source": [
    "fullcycle = {}\n",
    "for x in dischargecycle.keys():\n",
    "    if postsplit[x].max() < 1.5:\n",
    "        if splitchargecycle[x].max() < 1.3:\n",
    "            fullcycle[x] = pd.concat([dischargecycle[x].reset_index(drop=True), \n",
    "                                     splitchargecycle[x].reset_index(drop=True), \n",
    "                                     postsplit[x].reset_index(drop=True)], \n",
    "                                    ignore_index=True\n",
    "                                   )\n",
    "            fullcycle[x].plot(kind='line')\n",
    "for x in fullcycle.keys():\n",
    "    with open(f'FullCycleComparison#{x}.csv', 'w') as f:\n",
    "        with redirect_stdout(f):\n",
    "            for y in fullcycle.keys():\n",
    "                if x>y:\n",
    "                    if x!=y:\n",
    "                        print(abs(((fullcycle[x].reset_index(drop=True)).sub(fullcycle[y].reset_index(drop=True))).sum()), f',{x}, ', f'{y}')\n",
    "tetris={}\n",
    "for x in fullcycle.keys():\n",
    "     tetris[x] = pd.read_csv(f'FullCycleComparison#{x}.csv', \n",
    "                     names=['Difference', 'File', 'Compared']).drop_duplicates()\n",
    "del tetris[7]\n",
    "print(tetris)\n",
    "with open('FullCycleCollectiveMin.csv', 'w') as f:\n",
    "    with redirect_stdout(f):\n",
    "        for x in tetris.keys():\n",
    "            print(tetris[x].reset_index(drop=True).loc[[tetris[x]['Difference'].reset_index(drop=True).idxmin(0)]].to_csv(index=False, header=False))\n",
    "emerald = pd.read_csv('FullCycleCollectiveMin.csv', names=['Difference', 'File', 'Compared']).sort_values(by=['Compared'], axis=0, ascending=True, inplace=False)\n",
    "print(emerald)\n",
    "emerald.to_csv('FullSorted.csv', header=True, index=False, mode='w')"
   ]
  }
 ],
 "metadata": {
  "kernelspec": {
   "display_name": "Python 3 (ipykernel)",
   "language": "python",
   "name": "python3"
  },
  "language_info": {
   "codemirror_mode": {
    "name": "ipython",
    "version": 3
   },
   "file_extension": ".py",
   "mimetype": "text/x-python",
   "name": "python",
   "nbconvert_exporter": "python",
   "pygments_lexer": "ipython3",
   "version": "3.12.4"
  },
  "toc-autonumbering": true,
  "toc-showcode": true,
  "toc-showmarkdowntxt": true
 },
 "nbformat": 4,
 "nbformat_minor": 5
}
