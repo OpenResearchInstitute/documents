{
 "cells": [
  {
   "cell_type": "code",
   "execution_count": 1,
   "id": "3811f8e9",
   "metadata": {
    "tags": []
   },
   "outputs": [],
   "source": [
    "from contextlib import redirect_stdout # For printing our files\n",
    "import os # OS File system utilization in printing files\n",
    "import pandas as pd #Manipulating our data frames\n",
    "import numpy as np #Utilizing numpy commands"
   ]
  },
  {
   "cell_type": "code",
   "execution_count": 2,
   "id": "d0d0fb69",
   "metadata": {
    "jupyter": {
     "source_hidden": true
    },
    "tags": []
   },
   "outputs": [
    {
     "ename": "FileNotFoundError",
     "evalue": "[WinError 3] The system cannot find the path specified: ''",
     "output_type": "error",
     "traceback": [
      "\u001b[1;31m---------------------------------------------------------------------------\u001b[0m",
      "\u001b[1;31mFileNotFoundError\u001b[0m                         Traceback (most recent call last)",
      "Cell \u001b[1;32mIn[2], line 6\u001b[0m\n\u001b[0;32m      3\u001b[0m uba_extension \u001b[38;5;241m=\u001b[39m \u001b[38;5;124m\"\u001b[39m\u001b[38;5;124m.uba\u001b[39m\u001b[38;5;124m\"\u001b[39m\n\u001b[0;32m      4\u001b[0m output_extension \u001b[38;5;241m=\u001b[39m \u001b[38;5;124m\"\u001b[39m\u001b[38;5;124m_summmary.txt\u001b[39m\u001b[38;5;124m\"\u001b[39m\n\u001b[1;32m----> 6\u001b[0m \u001b[38;5;28;01mfor\u001b[39;00m filename \u001b[38;5;129;01min\u001b[39;00m os\u001b[38;5;241m.\u001b[39mlistdir(uba_folder):\n\u001b[0;32m      7\u001b[0m     \u001b[38;5;28;01mif\u001b[39;00m filename\u001b[38;5;241m.\u001b[39mendswith(uba_extension):\n\u001b[0;32m      8\u001b[0m         \u001b[38;5;28;01mwith\u001b[39;00m \u001b[38;5;28mopen\u001b[39m(os\u001b[38;5;241m.\u001b[39mpath\u001b[38;5;241m.\u001b[39mjoin(uba_folder, filename), \u001b[38;5;124m'\u001b[39m\u001b[38;5;124mr\u001b[39m\u001b[38;5;124m'\u001b[39m, encoding\u001b[38;5;241m=\u001b[39m\u001b[38;5;124m'\u001b[39m\u001b[38;5;124mcp1252\u001b[39m\u001b[38;5;124m'\u001b[39m) \u001b[38;5;28;01mas\u001b[39;00m f:\n",
      "\u001b[1;31mFileNotFoundError\u001b[0m: [WinError 3] The system cannot find the path specified: ''"
     ]
    }
   ],
   "source": [
    "#Code made by Paul Williamson/KB5MU with very small edits by me - much thanks!\n",
    "uba_folder = '' #format for your github repo where needed\n",
    "uba_extension = \".uba\"\n",
    "output_extension = \"_summmary.txt\"\n",
    "\n",
    "for filename in os.listdir(uba_folder):\n",
    "    if filename.endswith(uba_extension):\n",
    "        with open(os.path.join(uba_folder, filename), 'r', encoding='cp1252') as f:\n",
    "            with open(filename+output_extension, 'w') as outf:\n",
    "                print(filename)\n",
    "                at_messages = False\n",
    "                for line in f:\n",
    "                    if line.strip() == \"<Messages>\":\n",
    "                        at_messages = True\n",
    "                    if at_messages:\n",
    "                        print(line.strip(), file=outf)"
   ]
  },
  {
   "cell_type": "code",
   "execution_count": 2,
   "id": "b41b3f23-df60-40e1-acd9-230bf74ae292",
   "metadata": {
    "tags": []
   },
   "outputs": [],
   "source": [
    "# As a conscious choice, we have chosen not to attempt to automate this process because of the potential difficulty costing more time than sorting each .uba summary.txt manually. \n",
    "# However, if wanted, you can attempt to automate this process. In this experiment however, we have sorted each file into their corresponding file types manually. \n",
    "# In doing so, here are our results.\n",
    "# We found that each file contains two identifiable markers that signify the start of the discharge and the start of the long 3 hour equalization charge. \n",
    "# We are generally able to tell which file has what amount of cycles because of this. \n",
    "# IN CASE We want to utilize later cycles of the batteries, we can only use sixgroup. However, all other files have at least one cycle to use, so we can utilize all of the files for the first cycle analysis.\n",
    "# 1HDC = 1 Hour Dis-Charge\n",
    "# 3HEC = 3 Hour Equalization Charge\n",
    "#1HDC, 3HEC, 1HDC\n",
    "threegroup = [19, 20, 83, 84]\n",
    "\n",
    "#1HDC, 3HEC, 1HDC, 3HEC\n",
    "fourgroup = [6, 4, 3, 2, 1]\n",
    "\n",
    "#1HDC, 3HEC, 1HDC, 3HEC, 1HDC\n",
    "fivegroup = [95, 96, 94, 93, 65, 54, 53, 31, 30, 29, 15]\n",
    "\n",
    "#1HDC, 3HEC, 1HDC, 3HEC, 1HDC, 3HEC\n",
    "sixgroup = [91, 89, 88, 87, 86, 85, 80, 79, 78, 77, 74, 73, 72, 71, 66, 64, 63, 62, 61, 60, 59, 58, 57, 56, 55, 52, 51, 50, 49, 46, 45, 42, 41, 40, 39, 38, 37, 36, 35, 34, 32, 28, 26, 25, 21, 22, 21, 18, 17, 16,  14, 13]\n"
   ]
  },
  {
   "cell_type": "code",
   "execution_count": 3,
   "id": "ff46008e-70b8-419b-a9c3-b4ccac49cba1",
   "metadata": {
    "tags": []
   },
   "outputs": [],
   "source": [
    "trurange = list(range(1,69))+list(range(83,99)) # After iterating through which files exist, we have created a range of all possible useable files.\n",
    "file = {} # Create a dictionary to store our formatted and read files\n",
    "dischargestart = 'Finish=MaxChargeC' # Start of the discharge cycle, graphed as a plateau in the data\n",
    "chargestart = 'Finish=CutoffV' # End of the discharge cycle, start of the charge cycle, graphed as a trough in the data\n",
    "split = 'Finish=MaxDischargeTime' # Split halfway through the charge cycle as current increases, appears as the point where the charge cycle changes.\n",
    "end = 'Finish=UserRequest:Stop' # End of the data file"
   ]
  },
  {
   "cell_type": "code",
   "execution_count": 7,
   "id": "9d1d3d01-b491-4155-9820-f726339171c2",
   "metadata": {
    "tags": []
   },
   "outputs": [],
   "source": [
    "for x in trurange:\n",
    "    try:\n",
    "        file[x] =(\n",
    "             pd.read_csv(\n",
    "                f'NiCd - Key Lime #{x}(data).csv', \n",
    "                skip_blank_lines=False, #We want all index numbers to stay the same\n",
    "                keep_default_na=True, #We want to keep all of our N/A values for the same reason\n",
    "                names=['Time', 'Volt', 'M/A', 'C', 'Sig'],\n",
    "            )\n",
    "        )\n",
    "    except:\n",
    "        print(f'fail in {x}')"
   ]
  },
  {
   "cell_type": "code",
   "execution_count": 9,
   "id": "69a2567d-2b5c-4ed4-9d24-5d591dd4bbce",
   "metadata": {
    "tags": []
   },
   "outputs": [],
   "source": [
    "locsigdc = {} #first true discharge positional location\n",
    "locsigch = {} #first true charge positional location\n",
    "locsigsp = {} #first true split positional location\n",
    "locsigend = {} #end of the the first charge cycle\n",
    "for x in file.keys(): \n",
    "    if len(file[x].loc[file[x]['Sig'] == dischargestart].index.tolist()) >=3:\n",
    "        if len(file[x].loc[file[x]['Sig'] == chargestart].index.tolist()) >=3:\n",
    "            if len(file[x].loc[file[x]['Sig'] == split].index.tolist()) >=3:\n",
    "                if file[x].loc[file[x]['Sig'] == dischargestart].index.tolist()[0]\\\n",
    "                < file[x].loc[file[x]['Sig'] == chargestart].index.tolist()[1]\\\n",
    "                < file[x].loc[file[x]['Sig'] == split].index.tolist()[2]:\n",
    "                        locsigdc[x] = (file[x].loc[file[x]['Sig'] == dischargestart].index.tolist()[0]) \n",
    "                        locsigch[x] = (file[x].loc[file[x]['Sig'] == chargestart].index.tolist()[1])\n",
    "                        locsigsp[x] = (file[x].loc[file[x]['Sig'] == split].index.tolist()[2])\n",
    "                        locsigend[x] = (file[x].loc[file[x]['Sig'] == split].index.tolist()[2] + 500)\n",
    "                \n"
   ]
  },
  {
   "cell_type": "code",
   "execution_count": 11,
   "id": "7aa5f9fe-a67b-4389-8cdd-7b03d608e442",
   "metadata": {
    "tags": []
   },
   "outputs": [],
   "source": [
    "dischargecycle = {} #first discharge\n",
    "splitchargecycle = {} #first half of the charge cycle\n",
    "postsplit = {} # last half of the charge cycle\n",
    "for x in locsigdc.keys(): #We want to see which ones fail this cell, so we will run it through the same keys again.\n",
    "        try:\n",
    "            if locsigsp[x] < 3000:\n",
    "                dischargecycle[x] = file[x]['Volt'].truncate(before=locsigdc[x],\n",
    "                                                             after=locsigch[x])\n",
    "                splitchargecycle[x] = file[x]['Volt'].truncate(before=locsigch[x], \n",
    "                                                               after=locsigsp[x])\n",
    "                postsplit[x] = file[x]['Volt'].truncate(before=locsigsp[x],\n",
    "                                                        after=locsigend[x])\n",
    "        except:\n",
    "            print(f'fail in {x}')"
   ]
  },
  {
   "cell_type": "code",
   "execution_count": 13,
   "id": "c2afd156-5b35-42a5-8b70-b2faf9d1ca1f",
   "metadata": {
    "jupyter": {
     "source_hidden": true
    },
    "tags": []
   },
   "outputs": [
    {
     "data": {
      "image/png": "[encoded data removed]",
      "text/plain": [
       "<Figure size 640x480 with 1 Axes>"
      ]
     },
     "metadata": {},
     "output_type": "display_data"
    }
   ],
   "source": [
    "fullcycle = {}\n",
    "for x in dischargecycle.keys():\n",
    "    if postsplit[x].max() < 1.5:\n",
    "        if splitchargecycle[x].max() < 1.3:\n",
    "            fullcycle[x] = pd.concat([dischargecycle[x].reset_index(drop=True), \n",
    "                                     splitchargecycle[x].reset_index(drop=True), \n",
    "                                     postsplit[x].reset_index(drop=True)], \n",
    "                                    ignore_index=True\n",
    "                                   )\n",
    "            fullcycle[x].plot(kind='line')\n",
    "for x in fullcycle.keys():\n",
    "    with open(f'FullCycleComparison#{x}.csv', 'w') as f:\n",
    "        with redirect_stdout(f):\n",
    "            for y in fullcycle.keys():\n",
    "                if x>y:\n",
    "                    if x!=y:\n",
    "                        print(abs(((fullcycle[x].reset_index(drop=True)).sub(fullcycle[y].reset_index(drop=True))).sum()), f',{x}, ', f'{y}')\n",
    "tetris={}\n",
    "for x in fullcycle.keys():\n",
    "     tetris[x] = pd.read_csv(f'FullCycleComparison#{x}.csv', \n",
    "                     names=['Difference', 'File', 'Compared']).drop_duplicates()\n",
    "del tetris[7]\n",
    "print(tetris)\n",
    "with open('FullCycleCollectiveMin.csv', 'w') as f:\n",
    "    with redirect_stdout(f):\n",
    "        for x in tetris.keys():\n",
    "            print(tetris[x].reset_index(drop=True).loc[[tetris[x]['Difference'].reset_index(drop=True).idxmin(0)]].to_csv(index=False, header=False))\n",
    "emerald = pd.read_csv('FullCycleCollectiveMin.csv', names=['Difference', 'File', 'Compared']).sort_values(by=['Compared'], axis=0, ascending=True, inplace=False)\n",
    "print(emerald)\n",
    "emerald.to_csv('FullSorted.csv', header=True, index=False, mode='w')"
   ]
  },
  {
   "cell_type": "code",
   "execution_count": 29,
   "id": "c27210f6",
   "metadata": {
    "tags": []
   },
   "outputs": [],
   "source": [
    "for x in file.keys(): # Charge CYCLE being used - can be changed to ANY cycle as long as arguments are passed for clarifying data.\n",
    "    if x in splitchargecycle.keys():\n",
    "        with open(f'ChargeComparison_of_{x}.csv', 'w') as f:\n",
    "            with redirect_stdout(f):\n",
    "                for y in splitchargecycle.keys():\n",
    "                    if x>y:\n",
    "                        if x != y:\n",
    "                            print(abs(((dischargecycle[x].reset_index(drop=True)).sub(dischargecycle[y].reset_index(drop=True))).sum()), \n",
    "                                  ',',\n",
    "                                  abs(((splitchargecycle[x].reset_index(drop=True)).sub(splitchargecycle[y].reset_index(drop=True))).sum()),\n",
    "                                  ',',\n",
    "                                  abs((abs(((dischargecycle[x].reset_index(drop=True)).sub(dischargecycle[y].reset_index(drop=True))).sum()))-(abs(((splitchargecycle[x].reset_index(drop=True)).sub(splitchargecycle[y].reset_index(drop=True))).sum()))),\n",
    "                                  f',{x},', \n",
    "                                  f'{y}'\n",
    "                                 )"
   ]
  },
  {
   "cell_type": "code",
   "execution_count": 32,
   "id": "7f760ce5-5e2f-44e9-b00c-cb3a8453e558",
   "metadata": {
    "tags": []
   },
   "outputs": [],
   "source": [
    "gofish={}\n",
    "for x in splitchargecycle.keys():\n",
    "     gofish[x] = pd.read_csv(f'ChargeComparison_of_{x}.csv', \n",
    "                     names=['DisC_Difference', 'CharDifference', 'DisCharDiff', 'File', 'Compared'])\n",
    "del gofish[7] # our 7th key is empty"
   ]
  },
  {
   "cell_type": "code",
   "execution_count": 34,
   "id": "4ddf80ce-61bb-4404-81e5-9f8180d9e40d",
   "metadata": {
    "tags": []
   },
   "outputs": [
    {
     "name": "stdout",
     "output_type": "stream",
     "text": [
      "    DisC_Difference  CharDifference  DisCharDiff  File  Compared\n",
      "0          2.448182        0.140661     2.307521    98         7\n",
      "1          2.749916        0.032153     2.717763    98         8\n",
      "2          1.789010        0.093291     1.695719    98         9\n",
      "3          0.066050        0.134016     0.067966    98        10\n",
      "4          1.791430        0.093760     1.697670    98        11\n",
      "5          7.951170        0.175386     7.775784    98        12\n",
      "6          2.373500        0.175893     2.197607    98        13\n",
      "7          3.030436        0.068014     2.962422    98        14\n",
      "8          3.069108        0.035082     3.034026    98        15\n",
      "9          0.746945        0.181584     0.565361    98        16\n",
      "10         3.355783        0.196411     3.159372    98        21\n",
      "11        10.577347        0.469185    10.108162    98        22\n",
      "12         1.031671        0.112369     0.919302    98        23\n",
      "13         9.431123        1.030577     8.400546    98        24\n",
      "14         0.526462        0.103717     0.422745    98        25\n",
      "15         9.330770        0.337080     8.993690    98        26\n",
      "16         0.647441        0.007676     0.639765    98        28\n",
      "17         2.107321        0.265904     1.841417    98        32\n",
      "18         3.273524        0.096844     3.176680    98        36\n",
      "19         2.329852        0.260840     2.069012    98        37\n",
      "20         0.620436        0.064122     0.556314    98        38\n",
      "21         0.481822        0.198127     0.283695    98        39\n",
      "22         8.030690        0.256496     7.774194    98        40\n",
      "23         1.971481        0.273706     1.697775    98        41\n",
      "24         1.482827        0.017570     1.465257    98        42\n",
      "25         2.862314        0.263511     2.598803    98        43\n",
      "26         1.241171        0.228378     1.012793    98        44\n",
      "27         3.011343        0.163073     2.848270    98        45\n",
      "28         0.920890        0.202543     0.718347    98        46\n",
      "29         2.379310        0.126709     2.252601    98        47\n",
      "30         3.887763        0.147069     3.740694    98        49\n",
      "31         0.413203        0.153904     0.259299    98        50\n",
      "32         4.124627        0.217216     3.907411    98        51\n",
      "33         3.409571        0.186500     3.223071    98        52\n",
      "34         0.494056        0.210796     0.283260    98        53\n",
      "35         4.211043        0.047383     4.163660    98        54\n",
      "36        13.454540        0.687699    12.766841    98        56\n",
      "37         4.684962        0.105749     4.579213    98        57\n",
      "38         8.039400        0.324570     7.714830    98        58\n",
      "39         2.656424        0.087661     2.568763    98        59\n",
      "40         4.279462        0.129095     4.150367    98        60\n",
      "41         6.474992        0.006171     6.468821    98        61\n",
      "42         4.645002        0.232538     4.412464    98        62\n",
      "43         2.932275        0.137070     2.795205    98        63\n",
      "44         2.323316        0.002250     2.321066    98        64\n",
      "45         4.117119        0.076759     4.040360    98        65\n",
      "46         7.197812        0.218294     6.979518    98        66\n",
      "47         5.588614        0.095904     5.492710    98        85\n",
      "48         8.889040        0.094369     8.794671    98        86\n",
      "49        10.160185        0.437602     9.722583    98        87\n",
      "50        11.293904        0.933163    10.360741    98        89\n",
      "51         6.932118        0.234747     6.697371    98        90\n",
      "52         1.142981        0.166218     0.976763    98        91\n",
      "53         4.448336        0.022903     4.425433    98        92\n",
      "54         5.854593        0.103470     5.751123    98        93\n",
      "55         1.547451        0.170640     1.376811    98        94\n",
      "56         5.579847        0.171065     5.408782    98        95\n",
      "57         2.672662        0.125838     2.546824    98        96\n",
      "58         6.319909        0.016966     6.302943    98        97\n"
     ]
    }
   ],
   "source": [
    "print(gofish[x])"
   ]
  },
  {
   "cell_type": "code",
   "execution_count": 36,
   "id": "743b7366-20c8-4bbf-9fa0-e99ac3e67ea4",
   "metadata": {
    "tags": []
   },
   "outputs": [],
   "source": [
    "with open('DisAndChargeMin.csv', 'w') as f:\n",
    "    with redirect_stdout(f):\n",
    "        for x in gofish.keys():\n",
    "            print(gofish[x].reset_index(drop=True).loc[[gofish[x]['DisCharDiff'].reset_index(drop=True).idxmin(0)]].to_csv(index=False, header=False))"
   ]
  },
  {
   "cell_type": "code",
   "execution_count": 39,
   "id": "2497100d-2ebe-4e28-8092-b0fc9f356d51",
   "metadata": {
    "collapsed": true,
    "jupyter": {
     "outputs_hidden": true
    },
    "tags": []
   },
   "outputs": [
    {
     "name": "stdout",
     "output_type": "stream",
     "text": [
      "    DisC_Difference  CharDifference  DisCharDiff  File  Compared\n",
      "0          0.334527        0.108508     0.226019     8         7\n",
      "1          0.642332        0.233952     0.408380     9         7\n",
      "4          5.883620        0.316047     5.567573    12         7\n",
      "5          0.089003        0.035232     0.053771    13         7\n",
      "43         0.121811        0.138411     0.016600    64         7\n",
      "38         0.182787        0.228322     0.045535    59         7\n",
      "6          0.092446        0.035861     0.056585    14         8\n",
      "42         0.182359        0.169223     0.013136    63         8\n",
      "28         0.028567        0.094556     0.065989    47         8\n",
      "2          1.791075        0.040725     1.750350    10         9\n",
      "3          0.263576        0.000469     0.263107    11         9\n",
      "11         0.455442        0.205660     0.249782    23         9\n",
      "58         0.066050        0.134016     0.067966    98        10\n",
      "8          0.630469        0.315600     0.314869    16        10\n",
      "22         0.180051        0.367466     0.187415    41        11\n",
      "14         0.402540        0.161694     0.240846    26        12\n",
      "47         0.243324        0.081017     0.162307    86        12\n",
      "21         0.450110        0.081110     0.369000    40        12\n",
      "10         1.954625        0.293799     1.660826    22        12\n",
      "16         0.044633        0.090011     0.045378    32        13\n",
      "18         0.079219        0.084947     0.005728    37        13\n",
      "24         0.168122        0.195497     0.027375    43        14\n",
      "7          0.135443        0.032932     0.102511    15        14\n",
      "9          0.488975        0.161329     0.327646    21        15\n",
      "15         0.214790        0.173908     0.040882    28        16\n",
      "30         0.521849        0.335488     0.186361    50        16\n",
      "23         0.545109        0.199154     0.345955    42        16\n",
      "17         0.230172        0.293255     0.063083    36        21\n",
      "26         0.326201        0.359484     0.033283    45        21\n",
      "12         2.551429        0.561392     1.990037    24        22\n",
      "49         1.520707        0.463978     1.056729    89        22\n",
      "25         0.070076        0.116009     0.045933    44        23\n",
      "13         0.424560        0.216086     0.208474    25        23\n",
      "35         0.825476        0.342878     0.482598    56        24\n",
      "20         0.219491        0.301844     0.082353    39        25\n",
      "48         0.022293        0.100522     0.078229    87        26\n",
      "19         0.142121        0.071798     0.070323    38        28\n",
      "29         0.467884        0.243913     0.223971    49        36\n",
      "33         0.268490        0.408923     0.140433    53        39\n",
      "27         0.592636        0.400670     0.191966    46        39\n",
      "37         0.932881        0.068074     0.864807    58        40\n",
      "46         4.851447        0.113474     4.737973    85        42\n",
      "51         0.085107        0.036325     0.048782    91        46\n",
      "31         0.478718        0.070147     0.408571    51        49\n",
      "32         0.331837        0.333569     0.001732    52        49\n",
      "34         0.123465        0.169833     0.046368    54        51\n",
      "36         0.402954        0.111467     0.291487    57        51\n",
      "41         0.372808        0.449754     0.076946    62        51\n",
      "39         0.161364        0.176478     0.015114    60        54\n",
      "40         1.388254        0.318399     1.069855    61        58\n",
      "45         0.357476        0.106276     0.251200    66        58\n",
      "44         0.255288        0.205854     0.049434    65        60\n",
      "52         0.149398        0.151998     0.002600    92        60\n",
      "50         0.544735        0.228576     0.316159    90        61\n",
      "53         0.532790        0.109641     0.423149    93        61\n",
      "56         0.259613        0.262908     0.003295    96        63\n",
      "57         0.246732        0.251713     0.004981    97        90\n",
      "54         0.268889        0.336858     0.067969    94        91\n",
      "55         0.261835        0.274535     0.012700    95        93\n"
     ]
    }
   ],
   "source": [
    "pearl = pd.read_csv('DisAndChargeMin.csv', names=['DisC_Difference', 'CharDifference', 'DisCharDiff', 'File', 'Compared']).sort_values(by=['Compared'], \n",
    "                                                                                               axis=0, \n",
    "                                                                                               ascending=True, \n",
    "                                                                                               inplace=False\n",
    "                                                                                              )\n",
    "print(pearl)\n",
    "pearl.to_csv('DisChargeDIFFSorted.csv', header=True, index=False, mode='w')"
   ]
  },
  {
   "cell_type": "code",
   "execution_count": null,
   "id": "c9ce4dd6-5084-40bf-a659-7d3336e75ce2",
   "metadata": {},
   "outputs": [],
   "source": []
  }
 ],
 "metadata": {
  "kernelspec": {
   "display_name": "Python 3 (ipykernel)",
   "language": "python",
   "name": "python3"
  },
  "language_info": {
   "codemirror_mode": {
    "name": "ipython",
    "version": 3
   },
   "file_extension": ".py",
   "mimetype": "text/x-python",
   "name": "python",
   "nbconvert_exporter": "python",
   "pygments_lexer": "ipython3",
   "version": "3.11.7"
  },
  "toc-autonumbering": true,
  "toc-showcode": true,
  "toc-showmarkdowntxt": true
 },
 "nbformat": 4,
 "nbformat_minor": 5
}
