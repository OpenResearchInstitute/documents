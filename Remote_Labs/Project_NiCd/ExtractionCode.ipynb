{
 "cells": [
  {
   "cell_type": "code",
   "execution_count": 10,
   "id": "3811f8e9",
   "metadata": {
    "tags": []
   },
   "outputs": [],
   "source": [
    "from contextlib import redirect_stdout # For printing our files\n",
    "import os # OS File system utilization in printing files\n",
    "import pandas as pd #Manipulating our data frames\n",
    "import numpy as np #Utilizing numpy commands"
   ]
  },
  {
   "cell_type": "code",
   "execution_count": 12,
   "id": "d0d0fb69",
   "metadata": {
    "tags": []
   },
   "outputs": [
    {
     "ename": "FileNotFoundError",
     "evalue": "[WinError 3] The system cannot find the path specified: ''",
     "output_type": "error",
     "traceback": [
      "\u001b[1;31m---------------------------------------------------------------------------\u001b[0m",
      "\u001b[1;31mFileNotFoundError\u001b[0m                         Traceback (most recent call last)",
      "Cell \u001b[1;32mIn[12], line 6\u001b[0m\n\u001b[0;32m      3\u001b[0m uba_extension \u001b[38;5;241m=\u001b[39m \u001b[38;5;124m\"\u001b[39m\u001b[38;5;124m.uba\u001b[39m\u001b[38;5;124m\"\u001b[39m\n\u001b[0;32m      4\u001b[0m output_extension \u001b[38;5;241m=\u001b[39m \u001b[38;5;124m\"\u001b[39m\u001b[38;5;124m_summmary.txt\u001b[39m\u001b[38;5;124m\"\u001b[39m\n\u001b[1;32m----> 6\u001b[0m \u001b[38;5;28;01mfor\u001b[39;00m filename \u001b[38;5;129;01min\u001b[39;00m os\u001b[38;5;241m.\u001b[39mlistdir(uba_folder):\n\u001b[0;32m      7\u001b[0m     \u001b[38;5;28;01mif\u001b[39;00m filename\u001b[38;5;241m.\u001b[39mendswith(uba_extension):\n\u001b[0;32m      8\u001b[0m         \u001b[38;5;28;01mwith\u001b[39;00m \u001b[38;5;28mopen\u001b[39m(os\u001b[38;5;241m.\u001b[39mpath\u001b[38;5;241m.\u001b[39mjoin(uba_folder, filename), \u001b[38;5;124m'\u001b[39m\u001b[38;5;124mr\u001b[39m\u001b[38;5;124m'\u001b[39m, encoding\u001b[38;5;241m=\u001b[39m\u001b[38;5;124m'\u001b[39m\u001b[38;5;124mcp1252\u001b[39m\u001b[38;5;124m'\u001b[39m) \u001b[38;5;28;01mas\u001b[39;00m f:\n",
      "\u001b[1;31mFileNotFoundError\u001b[0m: [WinError 3] The system cannot find the path specified: ''"
     ]
    }
   ],
   "source": [
    "#Code made by Paul Williamson/KB5MU with very small edits by me - much thanks!\n",
    "uba_folder = '' #format for your github repo where needed\n",
    "uba_extension = \".uba\"\n",
    "output_extension = \"_summmary.txt\"\n",
    "\n",
    "for filename in os.listdir(uba_folder):\n",
    "    if filename.endswith(uba_extension):\n",
    "        with open(os.path.join(uba_folder, filename), 'r', encoding='cp1252') as f:\n",
    "            with open(filename+output_extension, 'w') as outf:\n",
    "                print(filename)\n",
    "                at_messages = False\n",
    "                for line in f:\n",
    "                    if line.strip() == \"<Messages>\":\n",
    "                        at_messages = True\n",
    "                    if at_messages:\n",
    "                        print(line.strip(), file=outf)"
   ]
  },
  {
   "cell_type": "code",
   "execution_count": 14,
   "id": "b41b3f23-df60-40e1-acd9-230bf74ae292",
   "metadata": {
    "tags": []
   },
   "outputs": [],
   "source": [
    "# As a conscious choice, we have chosen not to attempt to automate this process because of the potential difficulty costing more time than sorting each .uba summary.txt manually. \n",
    "# However, if wanted, you can attempt to automate this process. In this experiment however, we have sorted each file into their corresponding file types manually. \n",
    "# In doing so, here are our results.\n",
    "# We found that each file contains two identifiable markers that signify the start of the discharge and the start of the long 3 hour equalization charge. \n",
    "# We are generally able to tell which file has what amount of cycles because of this. \n",
    "# IN CASE We want to utilize later cycles of the batteries, we can only use sixgroup. However, all other files have at least one cycle to use, so we can utilize all of the files for the first cycle analysis.\n",
    "# 1HDC = 1 Hour Dis-Charge\n",
    "# 3HEC = 3 Hour Equalization Charge\n",
    "#1HDC, 3HEC, 1HDC\n",
    "threegroup = [19, 20, 83, 84]\n",
    "\n",
    "#1HDC, 3HEC, 1HDC, 3HEC\n",
    "fourgroup = [6, 4, 3, 2, 1]\n",
    "\n",
    "#1HDC, 3HEC, 1HDC, 3HEC, 1HDC\n",
    "fivegroup = [95, 96, 94, 93, 65, 54, 53, 31, 30, 29, 15]\n",
    "\n",
    "#1HDC, 3HEC, 1HDC, 3HEC, 1HDC, 3HEC\n",
    "sixgroup = [91, 89, 88, 87, 86, 85, 80, 79, 78, 77, 74, 73, 72, 71, 66, 64, 63, 62, 61, 60, 59, 58, 57, 56, 55, 52, 51, 50, 49, 46, 45, 42, 41, 40, 39, 38, 37, 36, 35, 34, 32, 28, 26, 25, 21, 22, 21, 18, 17, 16,  14, 13]\n"
   ]
  },
  {
   "cell_type": "code",
   "execution_count": 16,
   "id": "ff46008e-70b8-419b-a9c3-b4ccac49cba1",
   "metadata": {
    "tags": []
   },
   "outputs": [],
   "source": [
    "trurange = list(range(1,69))+list(range(83,99)) # After iterating through which files exist, we have created a range of all possible useable files.\n",
    "file = {} # Create a dictionary to store our formatted and read files\n",
    "dischargestart = 'Finish=MaxChargeC' # Start of the discharge cycle, graphed as a plateau in the data\n",
    "chargestart = 'Finish=CutoffV' # End of the discharge cycle, start of the charge cycle, graphed as a trough in the data\n",
    "split = 'Finish=MaxDischargeTime' # Split halfway through the charge cycle as current increases, appears as the point where the charge cycle changes.\n",
    "end = 'Finish=UserRequest:Stop' # End of the data file"
   ]
  },
  {
   "cell_type": "code",
   "execution_count": 18,
   "id": "9d1d3d01-b491-4155-9820-f726339171c2",
   "metadata": {
    "tags": []
   },
   "outputs": [],
   "source": [
    "for x in trurange:\n",
    "    try:\n",
    "        file[x] =(\n",
    "             pd.read_csv(\n",
    "                f'NiCd - Key Lime #{x}(data).csv', \n",
    "                skip_blank_lines=False, #We want all index numbers to stay the same\n",
    "                keep_default_na=True, #We want to keep all of our N/A values for the same reason\n",
    "                names=['Time', 'Volt', 'M/A', 'C', 'Sig'],\n",
    "            )\n",
    "        )\n",
    "    except:\n",
    "        print(f'fail in {x}')"
   ]
  },
  {
   "cell_type": "code",
   "execution_count": 20,
   "id": "69a2567d-2b5c-4ed4-9d24-5d591dd4bbce",
   "metadata": {
    "tags": []
   },
   "outputs": [],
   "source": [
    "locsigdc = {} #first true discharge positional location\n",
    "locsigch = {} #first true charge positional location\n",
    "locsigsp = {} #first true split positional location\n",
    "locsigend = {} #end of the the first charge cycle\n",
    "for x in file.keys(): \n",
    "    if len(file[x].loc[file[x]['Sig'] == dischargestart].index.tolist()) >=3:\n",
    "        if len(file[x].loc[file[x]['Sig'] == chargestart].index.tolist()) >=3:\n",
    "            if len(file[x].loc[file[x]['Sig'] == split].index.tolist()) >=3:\n",
    "                if file[x].loc[file[x]['Sig'] == dischargestart].index.tolist()[0]\\\n",
    "                < file[x].loc[file[x]['Sig'] == chargestart].index.tolist()[1]\\\n",
    "                < file[x].loc[file[x]['Sig'] == split].index.tolist()[2]:\n",
    "                        locsigdc[x] = (file[x].loc[file[x]['Sig'] == dischargestart].index.tolist()[0]) \n",
    "                        locsigch[x] = (file[x].loc[file[x]['Sig'] == chargestart].index.tolist()[1])\n",
    "                        locsigsp[x] = (file[x].loc[file[x]['Sig'] == split].index.tolist()[2])\n",
    "                        locsigend[x] = (file[x].loc[file[x]['Sig'] == split].index.tolist()[2] + 500)\n",
    "                \n"
   ]
  },
  {
   "cell_type": "code",
   "execution_count": 22,
   "id": "7aa5f9fe-a67b-4389-8cdd-7b03d608e442",
   "metadata": {
    "tags": []
   },
   "outputs": [],
   "source": [
    "dischargecycle = {} #first discharge\n",
    "splitchargecycle = {} #first half of the charge cycle\n",
    "postsplit = {} # last half of the charge cycle\n",
    "for x in locsigdc.keys(): #We want to see which ones fail this cell, so we will run it through the same keys again.\n",
    "        try:\n",
    "            if locsigsp[x] < 3000:\n",
    "                dischargecycle[x] = file[x]['Volt'].truncate(before=locsigdc[x],\n",
    "                                                             after=locsigch[x])\n",
    "                splitchargecycle[x] = file[x]['Volt'].truncate(before=locsigch[x], \n",
    "                                                               after=locsigsp[x])\n",
    "                postsplit[x] = file[x]['Volt'].truncate(before=locsigsp[x],\n",
    "                                                        after=locsigend[x])\n",
    "        except:\n",
    "            print(f'fail in {x}')"
   ]
  },
  {
   "cell_type": "code",
   "execution_count": 24,
   "id": "bee917a3-c6c9-4322-aeb6-abaf467f3c6a",
   "metadata": {
    "tags": []
   },
   "outputs": [],
   "source": [
    "with open('DirectComparison.csv', 'w') as f:\n",
    "    with redirect_stdout(f):\n",
    "        for x in file.keys():\n",
    "            if x in dischargecycle.keys():\n",
    "                for y in dischargecycle.keys(): \n",
    "                    print(abs(((dischargecycle[x].reset_index(drop=True)).sub(dischargecycle[y].reset_index(drop=True))).sum()), f', file {x} - {y}')\n"
   ]
  },
  {
   "cell_type": "code",
   "execution_count": 30,
   "id": "7f760ce5-5e2f-44e9-b00c-cb3a8453e558",
   "metadata": {
    "tags": []
   },
   "outputs": [],
   "source": [
    "gofish = pd.read_csv('DirectComparison.csv', \n",
    "                     names=['Diff', 'CoreFiles'])\n",
    "tetris = gofish.drop_duplicates(subset=['Diff'])\n",
    "jenga = gofish.drop_duplicates(subset=['Diff']).sort_values(by=['Diff'], \n",
    "                                                          axis=0, \n",
    "                                                          ascending=True, \n",
    "                                                          inplace=False)"
   ]
  },
  {
   "cell_type": "code",
   "execution_count": 32,
   "id": "db974a20-0480-4263-9d43-926dfd3fd85a",
   "metadata": {
    "tags": []
   },
   "outputs": [],
   "source": [
    "tetris.to_csv('UnsortedFile.csv', index=False)\n",
    "jenga.to_csv('SortedFile.csv', index=False)"
   ]
  },
  {
   "cell_type": "code",
   "execution_count": null,
   "id": "2497100d-2ebe-4e28-8092-b0fc9f356d51",
   "metadata": {},
   "outputs": [],
   "source": []
  }
 ],
 "metadata": {
  "kernelspec": {
   "display_name": "Python 3 (ipykernel)",
   "language": "python",
   "name": "python3"
  },
  "language_info": {
   "codemirror_mode": {
    "name": "ipython",
    "version": 3
   },
   "file_extension": ".py",
   "mimetype": "text/x-python",
   "name": "python",
   "nbconvert_exporter": "python",
   "pygments_lexer": "ipython3",
   "version": "3.11.7"
  },
  "toc-autonumbering": true,
  "toc-showcode": true,
  "toc-showmarkdowntxt": true
 },
 "nbformat": 4,
 "nbformat_minor": 5
}
