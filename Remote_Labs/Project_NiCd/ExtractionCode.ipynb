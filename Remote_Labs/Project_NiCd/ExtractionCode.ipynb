{
 "cells": [
  {
   "cell_type": "code",
   "execution_count": 10,
   "id": "3811f8e9",
   "metadata": {
    "tags": []
   },
   "outputs": [],
   "source": [
    "from contextlib import redirect_stdout # For printing our files\n",
    "import os # OS File system utilization in printing files\n",
    "import pandas as pd #Manipulating our data frames\n",
    "import numpy as np #Utilizing numpy commands"
   ]
  },
  {
   "cell_type": "code",
   "execution_count": 3,
   "id": "7d07a0cd-0732-4f68-8151-daa5dbe1c156",
   "metadata": {
    "collapsed": true,
    "jupyter": {
     "outputs_hidden": true
    },
    "tags": []
   },
   "outputs": [
    {
     "name": "stdout",
     "output_type": "stream",
     "text": [
      "NiCd - Key Lime #1.uba\n",
      "NiCd - Key Lime #10.uba\n",
      "NiCd - Key Lime #11.uba\n",
      "NiCd - Key Lime #12.uba\n",
      "NiCd - Key Lime #13.uba\n",
      "NiCd - Key Lime #14.uba\n",
      "NiCd - Key Lime #15.uba\n",
      "NiCd - Key Lime #16.uba\n",
      "NiCd - Key Lime #17.uba\n",
      "NiCd - Key Lime #18.uba\n",
      "NiCd - Key Lime #19.uba\n",
      "NiCd - Key Lime #2.uba\n",
      "NiCd - Key Lime #20.uba\n",
      "NiCd - Key Lime #21.uba\n",
      "NiCd - Key Lime #22.uba\n",
      "NiCd - Key Lime #23.uba\n",
      "NiCd - Key Lime #24.uba\n",
      "NiCd - Key Lime #25.uba\n",
      "NiCd - Key Lime #26.uba\n",
      "NiCd - Key Lime #27.uba\n",
      "NiCd - Key Lime #28.uba\n",
      "NiCd - Key Lime #29.uba\n",
      "NiCd - Key Lime #3.uba\n",
      "NiCd - Key Lime #30.uba\n",
      "NiCd - Key Lime #31.uba\n",
      "NiCd - Key Lime #32.uba\n",
      "NiCd - Key Lime #33.uba\n",
      "NiCd - Key Lime #34.uba\n",
      "NiCd - Key Lime #35.uba\n",
      "NiCd - Key Lime #36.uba\n",
      "NiCd - Key Lime #37.uba\n",
      "NiCd - Key Lime #38.uba\n",
      "NiCd - Key Lime #39.uba\n",
      "NiCd - Key Lime #4.uba\n",
      "NiCd - Key Lime #40.uba\n",
      "NiCd - Key Lime #41.uba\n",
      "NiCd - Key Lime #42.uba\n",
      "NiCd - Key Lime #43.uba\n",
      "NiCd - Key Lime #44.uba\n",
      "NiCd - Key Lime #45.uba\n",
      "NiCd - Key Lime #46.uba\n",
      "NiCd - Key Lime #47.uba\n",
      "NiCd - Key Lime #48.uba\n",
      "NiCd - Key Lime #49.uba\n",
      "NiCd - Key Lime #5.uba\n",
      "NiCd - Key Lime #50.uba\n",
      "NiCd - Key Lime #51.uba\n",
      "NiCd - Key Lime #52.uba\n",
      "NiCd - Key Lime #53.uba\n",
      "NiCd - Key Lime #54.uba\n",
      "NiCd - Key Lime #55.uba\n",
      "NiCd - Key Lime #55A.uba\n",
      "NiCd - Key Lime #56.uba\n",
      "NiCd - Key Lime #56A.uba\n",
      "NiCd - Key Lime #57.uba\n",
      "NiCd - Key Lime #58.uba\n",
      "NiCd - Key Lime #59.uba\n",
      "NiCd - Key Lime #59A.uba\n",
      "NiCd - Key Lime #6.uba\n",
      "NiCd - Key Lime #60.uba\n",
      "NiCd - Key Lime #60A.uba\n",
      "NiCd - Key Lime #61.uba\n",
      "NiCd - Key Lime #62.uba\n",
      "NiCd - Key Lime #63.uba\n",
      "NiCd - Key Lime #64.uba\n",
      "NiCd - Key Lime #65.uba\n",
      "NiCd - Key Lime #66.uba\n",
      "NiCd - Key Lime #66A.uba\n",
      "NiCd - Key Lime #67.uba\n",
      "NiCd - Key Lime #67A.uba\n",
      "NiCd - Key Lime #68.uba\n",
      "NiCd - Key Lime #68B.uba\n",
      "NiCd - Key Lime #7.uba\n",
      "NiCd - Key Lime #71.uba\n",
      "NiCd - Key Lime #72.uba\n",
      "NiCd - Key Lime #73.uba\n",
      "NiCd - Key Lime #74.uba\n",
      "NiCd - Key Lime #75.uba\n",
      "NiCd - Key Lime #75a.uba\n",
      "NiCd - Key Lime #76.uba\n",
      "NiCd - Key Lime #76a.uba\n",
      "NiCd - Key Lime #77.uba\n",
      "NiCd - Key Lime #78.uba\n",
      "NiCd - Key Lime #79.uba\n",
      "NiCd - Key Lime #8.uba\n",
      "NiCd - Key Lime #80.uba\n",
      "NiCd - Key Lime #83.uba\n",
      "NiCd - Key Lime #83a.uba\n",
      "NiCd - Key Lime #84.uba\n",
      "NiCd - Key Lime #84a.uba\n",
      "NiCd - Key Lime #85.uba\n",
      "NiCd - Key Lime #85b.uba\n",
      "NiCd - Key Lime #86.uba\n",
      "NiCd - Key Lime #87.uba\n",
      "NiCd - Key Lime #88.uba\n",
      "NiCd - Key Lime #89.uba\n",
      "NiCd - Key Lime #9.uba\n",
      "NiCd - Key Lime #90.uba\n",
      "NiCd - Key Lime #91.uba\n",
      "NiCd - Key Lime #92.uba\n",
      "NiCd - Key Lime #93.uba\n",
      "NiCd - Key Lime #94.uba\n",
      "NiCd - Key Lime #95.uba\n",
      "NiCd - Key Lime #96.uba\n",
      "NiCd - Key Lime #97.uba\n",
      "NiCd - Key Lime #98.uba\n",
      "NiCd_-_Key_Lime_1.uba\n",
      "NiCd_-_Key_Lime_2.uba\n",
      "NiCd_-_Key_Lime_3.uba\n",
      "NiCd_-_Key_Lime_4.uba\n"
     ]
    }
   ],
   "source": [
    "#Code made by Paul Williamson/KB5MU with very small edits by me - much thanks!\n",
    "uba_folder = '' #format for your github repo where needed\n",
    "uba_extension = \".uba\"\n",
    "output_extension = \"_summmary.txt\"\n",
    "\n",
    "for filename in os.listdir(uba_folder):\n",
    "    if filename.endswith(uba_extension):\n",
    "        with open(os.path.join(uba_folder, filename), 'r', encoding='cp1252') as f:\n",
    "            with open(filename+output_extension, 'w') as outf:\n",
    "                print(filename)\n",
    "                at_messages = False\n",
    "                for line in f:\n",
    "                    if line.strip() == \"<Messages>\":\n",
    "                        at_messages = True\n",
    "                    if at_messages:\n",
    "                        print(line.strip(), file=outf)"
   ]
  },
  {
   "cell_type": "code",
   "execution_count": 11,
   "id": "b41b3f23-df60-40e1-acd9-230bf74ae292",
   "metadata": {
    "tags": []
   },
   "outputs": [],
   "source": [
    "# As a conscious choice, we have chosen not to attempt to automate this process because of the potential difficulty costing more time than sorting each .uba summary.txt manually. \n",
    "# However, if wanted, you can attempt to automate this process. In this experiment however, we have sorted each file into their corresponding file types manually. \n",
    "# In doing so, here are our results.\n",
    "# We found that each file contains two identifiable markers that signify the start of the discharge and the start of the long 3 hour equalization charge. \n",
    "# We are generally able to tell which file has what amount of cycles because of this. \n",
    "# IN CASE We want to utilize later cycles of the batteries, we can only use sixgroup. However, all other files have at least one cycle to use, so we can utilize all of the files for the first cycle analysis.\n",
    "# 1HDC = 1 Hour Dis-Charge\n",
    "# 3HEC = 3 Hour Equalization Charge\n",
    "#1HDC, 3HEC, 1HDC\n",
    "threegroup = [19, 20, 83, 84]\n",
    "\n",
    "#1HDC, 3HEC, 1HDC, 3HEC\n",
    "fourgroup = [6, 4, 3, 2, 1]\n",
    "\n",
    "#1HDC, 3HEC, 1HDC, 3HEC, 1HDC\n",
    "fivegroup = [95, 96, 94, 93, 65, 54, 53, 31, 30, 29, 15]\n",
    "\n",
    "#1HDC, 3HEC, 1HDC, 3HEC, 1HDC, 3HEC\n",
    "sixgroup = [91, 89, 88, 87, 86, 85, 80, 79, 78, 77, 74, 73, 72, 71, 66, 64, 63, 62, 61, 60, 59, 58, 57, 56, 55, 52, 51, 50, 49, 46, 45, 42, 41, 40, 39, 38, 37, 36, 35, 34, 32, 28, 26, 25, 21, 22, 21, 18, 17, 16,  14, 13]\n"
   ]
  },
  {
   "cell_type": "code",
   "execution_count": 12,
   "id": "ff46008e-70b8-419b-a9c3-b4ccac49cba1",
   "metadata": {
    "tags": []
   },
   "outputs": [],
   "source": [
    "trurange = list(range(1,69))+list(range(83,99)) # After iterating through which files exist, we have created a range of all possible useable files.\n",
    "file = {} # Create a dictionary to store our formatted and read files\n",
    "dischargestart = 'Finish=MaxChargeC' # Start of the discharge cycle, graphed as a plateau in the data\n",
    "chargestart = 'Finish=CutoffV' # End of the discharge cycle, start of the charge cycle, graphed as a trough in the data\n",
    "split = 'Finish=MaxDischargeTime' # Split halfway through the charge cycle as current increases, appears as the point where the charge cycle changes.\n",
    "end = 'Finish=UserRequest:Stop' # End of the data file"
   ]
  },
  {
   "cell_type": "code",
   "execution_count": 13,
   "id": "9d1d3d01-b491-4155-9820-f726339171c2",
   "metadata": {},
   "outputs": [],
   "source": [
    "for x in trurange:\n",
    "    try:\n",
    "        file[x] =(\n",
    "             pd.read_csv(\n",
    "                f'NiCd - Key Lime #{x}(data).csv', \n",
    "                skip_blank_lines=False, #We want all index numbers to stay the same\n",
    "                keep_default_na=True, #We want to keep all of our N/A values for the same reason\n",
    "                names=['Time', 'Volt', 'M/A', 'C', 'Sig'],\n",
    "            )\n",
    "        )\n",
    "    except:\n",
    "        print(f'fail in {x}')"
   ]
  },
  {
   "cell_type": "code",
   "execution_count": 14,
   "id": "69a2567d-2b5c-4ed4-9d24-5d591dd4bbce",
   "metadata": {
    "tags": []
   },
   "outputs": [
    {
     "name": "stdout",
     "output_type": "stream",
     "text": [
      "fail in 34\n",
      "fail in 67\n",
      "fail in 68\n",
      "fail in 88\n"
     ]
    }
   ],
   "source": [
    "locsigdc = {} #first true discharge positional location\n",
    "locsigch = {} #first true charge positional location\n",
    "locsigsp = {} #first true split positional location\n",
    "locsigend = {} #end of the the first charge cycle\n",
    "for x in file.keys(): \n",
    "    try:\n",
    "        if file[x].loc[file[x]['Sig'] == dischargestart].values[0,0]\\\n",
    "        < file[x].loc[file[x]['Sig'] == chargestart].values[1,0]\\\n",
    "        < file[x].loc[file[x]['Sig'] == split].values[2,0]:\n",
    "                locsigdc[x] = (file[x].loc[file[x]['Sig'] == dischargestart].values[0,0]) \n",
    "                locsigch[x] = (file[x].loc[file[x]['Sig'] == chargestart].values[1,0])\n",
    "                locsigsp[x] = (file[x].loc[file[x]['Sig'] == split].values[2,0])\n",
    "                locsigend[x] = (file[x].loc[file[x]['Sig'] == split].values[2,0] + 7000)\n",
    "    except:\n",
    "        print(f'fail in {x}')\n"
   ]
  },
  {
   "cell_type": "code",
   "execution_count": 19,
   "id": "7aa5f9fe-a67b-4389-8cdd-7b03d608e442",
   "metadata": {
    "tags": []
   },
   "outputs": [
    {
     "name": "stdout",
     "output_type": "stream",
     "text": [
      "fail in 1\n",
      "fail in 34\n",
      "fail in 67\n",
      "fail in 68\n",
      "fail in 88\n"
     ]
    }
   ],
   "source": [
    "dischargecycle = {} #first discharge\n",
    "splitchargecycle = {} #first half of the charge cycle\n",
    "postsplit = {} # last half of the charge cycle\n",
    "for x in file.keys(): #We want to see which ones fail this cell, so we will run it through the same keys again.\n",
    "    try:\n",
    "        dischargecycle[x] = file[x]['Volt'].truncate(before=locsigdc[x],\n",
    "                                                     after=locsigch[x]).tolist()\n",
    "        splitchargecycle[x] = file[x]['Volt'].truncate(before=locsigch[x], \n",
    "                                                       after=locsigsp[x]).tolist()\n",
    "        postsplit[x] = file[x]['Volt'].truncate(before=locsigsp[x],\n",
    "                                                after=locsigend[x]).tolist()\n",
    "    except:\n",
    "        print(f'fail in {x}')"
   ]
  },
  {
   "cell_type": "code",
   "execution_count": null,
   "id": "47564b44-e6ac-4b82-9887-d54997d31d8a",
   "metadata": {},
   "outputs": [],
   "source": []
  }
 ],
 "metadata": {
  "kernelspec": {
   "display_name": "Python 3 (ipykernel)",
   "language": "python",
   "name": "python3"
  },
  "language_info": {
   "codemirror_mode": {
    "name": "ipython",
    "version": 3
   },
   "file_extension": ".py",
   "mimetype": "text/x-python",
   "name": "python",
   "nbconvert_exporter": "python",
   "pygments_lexer": "ipython3",
   "version": "3.11.5"
  },
  "toc-autonumbering": true,
  "toc-showcode": true,
  "toc-showmarkdowntxt": true
 },
 "nbformat": 4,
 "nbformat_minor": 5
}
